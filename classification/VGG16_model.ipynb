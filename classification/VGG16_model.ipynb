{
  "nbformat": 4,
  "nbformat_minor": 0,
  "metadata": {
    "accelerator": "GPU",
    "colab": {
      "name": "VGG16_model_after_pre-processing.ipynb",
      "provenance": [],
      "collapsed_sections": []
    },
    "kernelspec": {
      "display_name": "Python 3",
      "language": "python",
      "name": "python3"
    },
    "language_info": {
      "codemirror_mode": {
        "name": "ipython",
        "version": 3
      },
      "file_extension": ".py",
      "mimetype": "text/x-python",
      "name": "python",
      "nbconvert_exporter": "python",
      "pygments_lexer": "ipython3",
      "version": "3.7.1"
    },
    "pycharm": {
      "stem_cell": {
        "cell_type": "raw",
        "metadata": {
          "collapsed": false
        },
        "source": []
      }
    },
    "widgets": {
      "application/vnd.jupyter.widget-state+json": {
        "a28859d3d5fe46c8873fb4ef681f57b1": {
          "model_module": "@jupyter-widgets/controls",
          "model_name": "HBoxModel",
          "model_module_version": "1.5.0",
          "state": {
            "_view_name": "HBoxView",
            "_dom_classes": [],
            "_model_name": "HBoxModel",
            "_view_module": "@jupyter-widgets/controls",
            "_model_module_version": "1.5.0",
            "_view_count": null,
            "_view_module_version": "1.5.0",
            "box_style": "",
            "layout": "IPY_MODEL_2564f1367f1a407b945b4cfdb93bd00c",
            "_model_module": "@jupyter-widgets/controls",
            "children": [
              "IPY_MODEL_54ca69294a7d48a29766bbc0d9adb88e",
              "IPY_MODEL_e0a423b332b54d109582fd76f824f135",
              "IPY_MODEL_946cd2f066b24ff0875c126224660015"
            ]
          }
        },
        "2564f1367f1a407b945b4cfdb93bd00c": {
          "model_module": "@jupyter-widgets/base",
          "model_name": "LayoutModel",
          "model_module_version": "1.2.0",
          "state": {
            "_view_name": "LayoutView",
            "grid_template_rows": null,
            "right": null,
            "justify_content": null,
            "_view_module": "@jupyter-widgets/base",
            "overflow": null,
            "_model_module_version": "1.2.0",
            "_view_count": null,
            "flex_flow": null,
            "width": null,
            "min_width": null,
            "border": null,
            "align_items": null,
            "bottom": null,
            "_model_module": "@jupyter-widgets/base",
            "top": null,
            "grid_column": null,
            "overflow_y": null,
            "overflow_x": null,
            "grid_auto_flow": null,
            "grid_area": null,
            "grid_template_columns": null,
            "flex": null,
            "_model_name": "LayoutModel",
            "justify_items": null,
            "grid_row": null,
            "max_height": null,
            "align_content": null,
            "visibility": null,
            "align_self": null,
            "height": null,
            "min_height": null,
            "padding": null,
            "grid_auto_rows": null,
            "grid_gap": null,
            "max_width": null,
            "order": null,
            "_view_module_version": "1.2.0",
            "grid_template_areas": null,
            "object_position": null,
            "object_fit": null,
            "grid_auto_columns": null,
            "margin": null,
            "display": null,
            "left": null
          }
        },
        "54ca69294a7d48a29766bbc0d9adb88e": {
          "model_module": "@jupyter-widgets/controls",
          "model_name": "HTMLModel",
          "model_module_version": "1.5.0",
          "state": {
            "_view_name": "HTMLView",
            "style": "IPY_MODEL_f8294375c9bb4fe8906fe985b60a8ffa",
            "_dom_classes": [],
            "description": "",
            "_model_name": "HTMLModel",
            "placeholder": "​",
            "_view_module": "@jupyter-widgets/controls",
            "_model_module_version": "1.5.0",
            "value": "100%",
            "_view_count": null,
            "_view_module_version": "1.5.0",
            "description_tooltip": null,
            "_model_module": "@jupyter-widgets/controls",
            "layout": "IPY_MODEL_d5c91552087246cb9bbf5a31a323d3f7"
          }
        },
        "e0a423b332b54d109582fd76f824f135": {
          "model_module": "@jupyter-widgets/controls",
          "model_name": "FloatProgressModel",
          "model_module_version": "1.5.0",
          "state": {
            "_view_name": "ProgressView",
            "style": "IPY_MODEL_9e6aa418c34f4ef6a79096c925df9f64",
            "_dom_classes": [],
            "description": "",
            "_model_name": "FloatProgressModel",
            "bar_style": "success",
            "max": 553433881,
            "_view_module": "@jupyter-widgets/controls",
            "_model_module_version": "1.5.0",
            "value": 553433881,
            "_view_count": null,
            "_view_module_version": "1.5.0",
            "orientation": "horizontal",
            "min": 0,
            "description_tooltip": null,
            "_model_module": "@jupyter-widgets/controls",
            "layout": "IPY_MODEL_7da790da1dea46488300addccd37a4ad"
          }
        },
        "946cd2f066b24ff0875c126224660015": {
          "model_module": "@jupyter-widgets/controls",
          "model_name": "HTMLModel",
          "model_module_version": "1.5.0",
          "state": {
            "_view_name": "HTMLView",
            "style": "IPY_MODEL_2ba29b7588f94538a8cd19db5339040a",
            "_dom_classes": [],
            "description": "",
            "_model_name": "HTMLModel",
            "placeholder": "​",
            "_view_module": "@jupyter-widgets/controls",
            "_model_module_version": "1.5.0",
            "value": " 528M/528M [00:05&lt;00:00, 109MB/s]",
            "_view_count": null,
            "_view_module_version": "1.5.0",
            "description_tooltip": null,
            "_model_module": "@jupyter-widgets/controls",
            "layout": "IPY_MODEL_561b1ead976640618c2a0e6960b4b430"
          }
        },
        "f8294375c9bb4fe8906fe985b60a8ffa": {
          "model_module": "@jupyter-widgets/controls",
          "model_name": "DescriptionStyleModel",
          "model_module_version": "1.5.0",
          "state": {
            "_view_name": "StyleView",
            "_model_name": "DescriptionStyleModel",
            "description_width": "",
            "_view_module": "@jupyter-widgets/base",
            "_model_module_version": "1.5.0",
            "_view_count": null,
            "_view_module_version": "1.2.0",
            "_model_module": "@jupyter-widgets/controls"
          }
        },
        "d5c91552087246cb9bbf5a31a323d3f7": {
          "model_module": "@jupyter-widgets/base",
          "model_name": "LayoutModel",
          "model_module_version": "1.2.0",
          "state": {
            "_view_name": "LayoutView",
            "grid_template_rows": null,
            "right": null,
            "justify_content": null,
            "_view_module": "@jupyter-widgets/base",
            "overflow": null,
            "_model_module_version": "1.2.0",
            "_view_count": null,
            "flex_flow": null,
            "width": null,
            "min_width": null,
            "border": null,
            "align_items": null,
            "bottom": null,
            "_model_module": "@jupyter-widgets/base",
            "top": null,
            "grid_column": null,
            "overflow_y": null,
            "overflow_x": null,
            "grid_auto_flow": null,
            "grid_area": null,
            "grid_template_columns": null,
            "flex": null,
            "_model_name": "LayoutModel",
            "justify_items": null,
            "grid_row": null,
            "max_height": null,
            "align_content": null,
            "visibility": null,
            "align_self": null,
            "height": null,
            "min_height": null,
            "padding": null,
            "grid_auto_rows": null,
            "grid_gap": null,
            "max_width": null,
            "order": null,
            "_view_module_version": "1.2.0",
            "grid_template_areas": null,
            "object_position": null,
            "object_fit": null,
            "grid_auto_columns": null,
            "margin": null,
            "display": null,
            "left": null
          }
        },
        "9e6aa418c34f4ef6a79096c925df9f64": {
          "model_module": "@jupyter-widgets/controls",
          "model_name": "ProgressStyleModel",
          "model_module_version": "1.5.0",
          "state": {
            "_view_name": "StyleView",
            "_model_name": "ProgressStyleModel",
            "description_width": "",
            "_view_module": "@jupyter-widgets/base",
            "_model_module_version": "1.5.0",
            "_view_count": null,
            "_view_module_version": "1.2.0",
            "bar_color": null,
            "_model_module": "@jupyter-widgets/controls"
          }
        },
        "7da790da1dea46488300addccd37a4ad": {
          "model_module": "@jupyter-widgets/base",
          "model_name": "LayoutModel",
          "model_module_version": "1.2.0",
          "state": {
            "_view_name": "LayoutView",
            "grid_template_rows": null,
            "right": null,
            "justify_content": null,
            "_view_module": "@jupyter-widgets/base",
            "overflow": null,
            "_model_module_version": "1.2.0",
            "_view_count": null,
            "flex_flow": null,
            "width": null,
            "min_width": null,
            "border": null,
            "align_items": null,
            "bottom": null,
            "_model_module": "@jupyter-widgets/base",
            "top": null,
            "grid_column": null,
            "overflow_y": null,
            "overflow_x": null,
            "grid_auto_flow": null,
            "grid_area": null,
            "grid_template_columns": null,
            "flex": null,
            "_model_name": "LayoutModel",
            "justify_items": null,
            "grid_row": null,
            "max_height": null,
            "align_content": null,
            "visibility": null,
            "align_self": null,
            "height": null,
            "min_height": null,
            "padding": null,
            "grid_auto_rows": null,
            "grid_gap": null,
            "max_width": null,
            "order": null,
            "_view_module_version": "1.2.0",
            "grid_template_areas": null,
            "object_position": null,
            "object_fit": null,
            "grid_auto_columns": null,
            "margin": null,
            "display": null,
            "left": null
          }
        },
        "2ba29b7588f94538a8cd19db5339040a": {
          "model_module": "@jupyter-widgets/controls",
          "model_name": "DescriptionStyleModel",
          "model_module_version": "1.5.0",
          "state": {
            "_view_name": "StyleView",
            "_model_name": "DescriptionStyleModel",
            "description_width": "",
            "_view_module": "@jupyter-widgets/base",
            "_model_module_version": "1.5.0",
            "_view_count": null,
            "_view_module_version": "1.2.0",
            "_model_module": "@jupyter-widgets/controls"
          }
        },
        "561b1ead976640618c2a0e6960b4b430": {
          "model_module": "@jupyter-widgets/base",
          "model_name": "LayoutModel",
          "model_module_version": "1.2.0",
          "state": {
            "_view_name": "LayoutView",
            "grid_template_rows": null,
            "right": null,
            "justify_content": null,
            "_view_module": "@jupyter-widgets/base",
            "overflow": null,
            "_model_module_version": "1.2.0",
            "_view_count": null,
            "flex_flow": null,
            "width": null,
            "min_width": null,
            "border": null,
            "align_items": null,
            "bottom": null,
            "_model_module": "@jupyter-widgets/base",
            "top": null,
            "grid_column": null,
            "overflow_y": null,
            "overflow_x": null,
            "grid_auto_flow": null,
            "grid_area": null,
            "grid_template_columns": null,
            "flex": null,
            "_model_name": "LayoutModel",
            "justify_items": null,
            "grid_row": null,
            "max_height": null,
            "align_content": null,
            "visibility": null,
            "align_self": null,
            "height": null,
            "min_height": null,
            "padding": null,
            "grid_auto_rows": null,
            "grid_gap": null,
            "max_width": null,
            "order": null,
            "_view_module_version": "1.2.0",
            "grid_template_areas": null,
            "object_position": null,
            "object_fit": null,
            "grid_auto_columns": null,
            "margin": null,
            "display": null,
            "left": null
          }
        }
      }
    }
  },
  "cells": [
    {
      "cell_type": "code",
      "metadata": {
        "colab": {
          "base_uri": "https://localhost:8080/"
        },
        "id": "QtQd6z5Ed48Q",
        "outputId": "09b113aa-e920-4964-a52b-8532a086946f"
      },
      "source": [
        "import numpy as np\n",
        "import matplotlib.pyplot as plt\n",
        "import os\n",
        "from skimage import io\n",
        "import random\n",
        "import tqdm\n",
        "import torch as tc\n",
        "import torch.nn as nn\n",
        "from torch.utils.data import Dataset, DataLoader\n",
        "import torchvision\n",
        "from torchvision import transforms, datasets, models\n",
        "from sklearn.model_selection import train_test_split\n",
        "from sklearn.metrics import accuracy_score, precision_score, f1_score, classification_report, confusion_matrix, roc_curve, auc\n",
        "import seaborn as sns\n",
        "! pip install torchsummary\n",
        "from torchsummary import summary\n",
        "import gc\n",
        "from google.colab import drive\n",
        "import time"
      ],
      "execution_count": null,
      "outputs": [
        {
          "output_type": "stream",
          "name": "stdout",
          "text": [
            "Requirement already satisfied: torchsummary in /usr/local/lib/python3.7/dist-packages (1.5.1)\n"
          ]
        }
      ]
    },
    {
      "cell_type": "code",
      "metadata": {
        "colab": {
          "base_uri": "https://localhost:8080/"
        },
        "id": "_uKIb5s-d48Z",
        "outputId": "5d44cc06-afad-4c91-991a-12c081bc2297"
      },
      "source": [
        "drive.mount('/content/drive')\n",
        "path = \"/content/drive/My Drive/Brain_tumor\"\n",
        "\n",
        "path_testing = path + \"/Testing\"\n",
        "path_training = path + \"/Training\"\n",
        "\n",
        "list_train = os.listdir(path_training)\n",
        "list_test = os.listdir(path_testing)\n",
        "print(list_train)\n",
        "print(list_test)"
      ],
      "execution_count": null,
      "outputs": [
        {
          "output_type": "stream",
          "name": "stdout",
          "text": [
            "Mounted at /content/drive\n",
            "['no_tumor', 'meningioma_tumor', 'glioma_tumor', 'pituitary_tumor']\n",
            "['glioma_tumor', 'no_tumor', 'pituitary_tumor', 'meningioma_tumor']\n"
          ]
        }
      ]
    },
    {
      "cell_type": "code",
      "metadata": {
        "colab": {
          "base_uri": "https://localhost:8080/"
        },
        "id": "5uZiC_aifDP5",
        "outputId": "021a5192-8612-4a90-eaaa-bddaf90766ef"
      },
      "source": [
        "# training dataset \n",
        "train_glioma = path_training + \"/glioma_tumor\"\n",
        "train_meningioma = path_training + \"/meningioma_tumor\"\n",
        "train_no_tumor = path_training + \"/no_tumor\"\n",
        "train_pituitary = path_training + \"/pituitary_tumor\"\n",
        "\n",
        "print(f'train glioma: {len(os.listdir(train_glioma))}')\n",
        "print(f'train meningioma: {len(os.listdir(train_meningioma))}')\n",
        "print(f'train no tumor: {len(os.listdir(train_no_tumor))}')\n",
        "print(f'train pituitary: {len(os.listdir(train_pituitary))}')\n",
        "\n",
        "# testing dataset\n",
        "test_glioma = path_testing + \"/glioma_tumor\"\n",
        "test_meningioma = path_testing + \"/meningioma_tumor\"\n",
        "test_no_tumor = path_testing + \"/no_tumor\"\n",
        "test_pituitary = path_testing + \"/pituitary_tumor\"\n",
        "\n",
        "print(f'test glioma: {len(os.listdir(test_glioma))}')\n",
        "print(f'test meningioma: {len(os.listdir(test_meningioma))}')\n",
        "print(f'test no tumor: {len(os.listdir(test_no_tumor))}')\n",
        "print(f'test pituitary: {len(os.listdir(test_pituitary))}')"
      ],
      "execution_count": null,
      "outputs": [
        {
          "output_type": "stream",
          "name": "stdout",
          "text": [
            "train glioma: 826\n",
            "train meningioma: 822\n",
            "train no tumor: 395\n",
            "train pituitary: 827\n",
            "test glioma: 100\n",
            "test meningioma: 115\n",
            "test no tumor: 105\n",
            "test pituitary: 74\n"
          ]
        }
      ]
    },
    {
      "cell_type": "code",
      "metadata": {
        "id": "5MTw4JaM4975"
      },
      "source": [
        "class TumorDataset(tc.utils.data.Dataset):\n",
        "  def __init__(self, image_paths, image_labels, transforms):\n",
        "    self.image_paths = image_paths\n",
        "    self.labels = image_labels\n",
        "    self.transforms = transforms\n",
        "\n",
        "  def __getitem__(self,i):\n",
        "    image = plt.imread(self.image_paths[i])\n",
        "    label = self.labels[i]\n",
        "    image = self.transforms(image)\n",
        "    return image, label\n",
        "\n",
        "  def __len__(self):\n",
        "    return len(self.image_paths)\n",
        "\n",
        "def labels(filename, main_path):\n",
        "    if filename[len(main_path)+1] == \"g\":\n",
        "        label = 0\n",
        "    elif filename[len(main_path)+1] == \"m\":\n",
        "        label = 1\n",
        "    elif filename[len(main_path)+1] == \"p\":\n",
        "        label = 2\n",
        "    else:\n",
        "        label = 3\n",
        "    return label\n",
        "\n",
        "classes = ['Glioma', 'Meningioma', 'Pituitary', 'No Tumor']"
      ],
      "execution_count": null,
      "outputs": []
    },
    {
      "cell_type": "code",
      "metadata": {
        "id": "eNEBa-4pfFCy"
      },
      "source": [
        "train_path = [path_training + '/' + i + '/' + img \n",
        "                    for i in os.listdir(path_training) \n",
        "                    for img in os.listdir(path_training + '/' + i)\n",
        "                    ]\n",
        "\n",
        "test_path = [path_testing + '/' + i + '/' + img \n",
        "                  for i in os.listdir(path_testing) \n",
        "                  for img in os.listdir(path_testing + '/' + i)\n",
        "                  ]\n",
        "\n",
        "transform = transforms.Compose([transforms.ToTensor(), \n",
        "                                transforms.Resize((224,224)),\n",
        "                                #transforms.Normalize((0.5, 0.5, 0.5), (0.5, 0.5, 0.5)),\n",
        "                                #transforms.ColorJitter(brightness=0.2, contrast=0.5, saturation=0.8),\n",
        "                                #transforms.Normalize(mean=[0.485, 0.456, 0.406], std=[0.229, 0.224, 0.225]),\n",
        "                                #transforms.GaussianBlur(kernel_size=5),\n",
        "                                #transforms.functional.equalize(),\n",
        "                                #transforms.RandomHorizontalFlip(p=1),\n",
        "                                #transforms.RandomRotation(degrees=90),\n",
        "                                ])"
      ],
      "execution_count": null,
      "outputs": []
    },
    {
      "cell_type": "code",
      "metadata": {
        "colab": {
          "base_uri": "https://localhost:8080/"
        },
        "id": "DGRpo87FB4f6",
        "outputId": "98453d85-e878-43d9-ba74-cd07856c9589"
      },
      "source": [
        "train_label = [labels(data, path_training) for data in train_path]\n",
        "test_label = [labels(data, path_testing) for data in test_path]\n",
        "print(f\"Train: {len(train_label)}\")\n",
        "print(f\"Test: {len(test_label)}\")\n",
        "\n",
        "#Validation dataset \n",
        "train_path, validation_path, train_label, validation_label = train_test_split(train_path, train_label, test_size=0.05, random_state = 1, stratify=train_label) \n",
        "print(f\"Validation: {len(validation_path)}\")"
      ],
      "execution_count": null,
      "outputs": [
        {
          "output_type": "stream",
          "name": "stdout",
          "text": [
            "Train: 2870\n",
            "Test: 394\n",
            "Validation: 144\n"
          ]
        }
      ]
    },
    {
      "cell_type": "code",
      "metadata": {
        "colab": {
          "base_uri": "https://localhost:8080/",
          "height": 384
        },
        "id": "EdZePjnimyEJ",
        "outputId": "2dc7eccd-1897-4f62-a1a9-d5d622c4e9bf"
      },
      "source": [
        "# random image from train Dataset (before resizing)\n",
        "plt.figure(figsize=(5,6.5))\n",
        "for i in range(4):\n",
        "  n = random.randint(0, len(train_path)-1)\n",
        "  image = plt.imread(train_path[n])\n",
        "  plt.subplot(2,2,i+1)\n",
        "  plt.imshow(image)\n",
        "  plt.title(classes[train_label[n]])\n",
        "plt.show()"
      ],
      "execution_count": null,
      "outputs": [
        {
          "output_type": "display_data",
          "data": {
            "image/png": "[encoded data removed]",
            "text/plain": [
              "<Figure size 360x468 with 4 Axes>"
            ]
          },
          "metadata": {
            "needs_background": "light"
          }
        }
      ]
    },
    {
      "cell_type": "code",
      "metadata": {
        "id": "-3Je-_8id48f"
      },
      "source": [
        "train_dataset = TumorDataset(train_path, train_label, transforms=transform)\n",
        "test_dataset = TumorDataset(test_path, test_label, transforms=transform)\n",
        "validation_dataset = TumorDataset(validation_path, validation_label, transforms=transform)\n",
        "\n",
        "batch_size = 4\n",
        "num_workers = 2\n",
        "\n",
        "train_dataloader = DataLoader(train_dataset, batch_size=batch_size, shuffle=True)\n",
        "test_dataloader = DataLoader(test_dataset, batch_size=batch_size, shuffle=True)\n",
        "validation_dataloader = DataLoader(validation_dataset, batch_size=batch_size, shuffle=True)"
      ],
      "execution_count": null,
      "outputs": []
    },
    {
      "cell_type": "code",
      "metadata": {
        "colab": {
          "base_uri": "https://localhost:8080/",
          "height": 422
        },
        "id": "WOlpF9jijtxW",
        "outputId": "19bea142-2d65-41b3-d9e0-6c5c012b4844"
      },
      "source": [
        "# random image from train DataLoader (after resizing)\n",
        "plt.figure(figsize=(5,6))\n",
        "for i in range(4):\n",
        "  for images, labels in train_dataloader:\n",
        "    plt.subplot(2,2,i+1)\n",
        "    plt.imshow(images[0, :, :, :].numpy().swapaxes(0, 1).swapaxes(1, 2))\n",
        "    plt.title(classes[labels[0]])\n",
        "    break\n",
        "plt.show()"
      ],
      "execution_count": null,
      "outputs": [
        {
          "output_type": "stream",
          "name": "stderr",
          "text": [
            "/usr/local/lib/python3.7/dist-packages/torchvision/transforms/functional.py:114: UserWarning: The given NumPy array is not writeable, and PyTorch does not support non-writeable tensors. This means you can write to the underlying (supposedly non-writeable) NumPy array using the tensor. You may want to copy the array to protect its data or make it writeable before converting it to a tensor. This type of warning will be suppressed for the rest of this program. (Triggered internally at  /pytorch/torch/csrc/utils/tensor_numpy.cpp:180.)\n",
            "  img = torch.from_numpy(pic.transpose((2, 0, 1))).contiguous()\n"
          ]
        },
        {
          "output_type": "display_data",
          "data": {
            "image/png": "[encoded data removed]",
            "text/plain": [
              "<Figure size 360x432 with 4 Axes>"
            ]
          },
          "metadata": {
            "needs_background": "light"
          }
        }
      ]
    },
    {
      "cell_type": "code",
      "metadata": {
        "colab": {
          "base_uri": "https://localhost:8080/",
          "height": 989,
          "referenced_widgets": [
            "a28859d3d5fe46c8873fb4ef681f57b1",
            "2564f1367f1a407b945b4cfdb93bd00c",
            "54ca69294a7d48a29766bbc0d9adb88e",
            "e0a423b332b54d109582fd76f824f135",
            "946cd2f066b24ff0875c126224660015",
            "f8294375c9bb4fe8906fe985b60a8ffa",
            "d5c91552087246cb9bbf5a31a323d3f7",
            "9e6aa418c34f4ef6a79096c925df9f64",
            "7da790da1dea46488300addccd37a4ad",
            "2ba29b7588f94538a8cd19db5339040a",
            "561b1ead976640618c2a0e6960b4b430"
          ]
        },
        "id": "V4qmt9JtBgH_",
        "outputId": "dec4aaed-533c-4cc3-bf97-3fcb5f73e6f8"
      },
      "source": [
        "model = torchvision.models.vgg16(pretrained=True)\n",
        "device = \"cuda:0\"     # or \"cpu\"\n",
        "model = model.to(device)    # move the model to GPU\n",
        "summary(model, input_size=(3, 224, 224))"
      ],
      "execution_count": null,
      "outputs": [
        {
          "output_type": "stream",
          "name": "stderr",
          "text": [
            "Downloading: \"https://download.pytorch.org/models/vgg16-397923af.pth\" to /root/.cache/torch/hub/checkpoints/vgg16-397923af.pth\n"
          ]
        },
        {
          "output_type": "display_data",
          "data": {
            "application/vnd.jupyter.widget-view+json": {
              "model_id": "a28859d3d5fe46c8873fb4ef681f57b1",
              "version_minor": 0,
              "version_major": 2
            },
            "text/plain": [
              "  0%|          | 0.00/528M [00:00<?, ?B/s]"
            ]
          },
          "metadata": {}
        },
        {
          "output_type": "stream",
          "name": "stdout",
          "text": [
            "----------------------------------------------------------------\n",
            "        Layer (type)               Output Shape         Param #\n",
            "================================================================\n",
            "            Conv2d-1         [-1, 64, 224, 224]           1,792\n",
            "              ReLU-2         [-1, 64, 224, 224]               0\n",
            "            Conv2d-3         [-1, 64, 224, 224]          36,928\n",
            "              ReLU-4         [-1, 64, 224, 224]               0\n",
            "         MaxPool2d-5         [-1, 64, 112, 112]               0\n",
            "            Conv2d-6        [-1, 128, 112, 112]          73,856\n",
            "              ReLU-7        [-1, 128, 112, 112]               0\n",
            "            Conv2d-8        [-1, 128, 112, 112]         147,584\n",
            "              ReLU-9        [-1, 128, 112, 112]               0\n",
            "        MaxPool2d-10          [-1, 128, 56, 56]               0\n",
            "           Conv2d-11          [-1, 256, 56, 56]         295,168\n",
            "             ReLU-12          [-1, 256, 56, 56]               0\n",
            "           Conv2d-13          [-1, 256, 56, 56]         590,080\n",
            "             ReLU-14          [-1, 256, 56, 56]               0\n",
            "           Conv2d-15          [-1, 256, 56, 56]         590,080\n",
            "             ReLU-16          [-1, 256, 56, 56]               0\n",
            "        MaxPool2d-17          [-1, 256, 28, 28]               0\n",
            "           Conv2d-18          [-1, 512, 28, 28]       1,180,160\n",
            "             ReLU-19          [-1, 512, 28, 28]               0\n",
            "           Conv2d-20          [-1, 512, 28, 28]       2,359,808\n",
            "             ReLU-21          [-1, 512, 28, 28]               0\n",
            "           Conv2d-22          [-1, 512, 28, 28]       2,359,808\n",
            "             ReLU-23          [-1, 512, 28, 28]               0\n",
            "        MaxPool2d-24          [-1, 512, 14, 14]               0\n",
            "           Conv2d-25          [-1, 512, 14, 14]       2,359,808\n",
            "             ReLU-26          [-1, 512, 14, 14]               0\n",
            "           Conv2d-27          [-1, 512, 14, 14]       2,359,808\n",
            "             ReLU-28          [-1, 512, 14, 14]               0\n",
            "           Conv2d-29          [-1, 512, 14, 14]       2,359,808\n",
            "             ReLU-30          [-1, 512, 14, 14]               0\n",
            "        MaxPool2d-31            [-1, 512, 7, 7]               0\n",
            "AdaptiveAvgPool2d-32            [-1, 512, 7, 7]               0\n",
            "           Linear-33                 [-1, 4096]     102,764,544\n",
            "             ReLU-34                 [-1, 4096]               0\n",
            "          Dropout-35                 [-1, 4096]               0\n",
            "           Linear-36                 [-1, 4096]      16,781,312\n",
            "             ReLU-37                 [-1, 4096]               0\n",
            "          Dropout-38                 [-1, 4096]               0\n",
            "           Linear-39                 [-1, 1000]       4,097,000\n",
            "================================================================\n",
            "Total params: 138,357,544\n",
            "Trainable params: 138,357,544\n",
            "Non-trainable params: 0\n",
            "----------------------------------------------------------------\n",
            "Input size (MB): 0.57\n",
            "Forward/backward pass size (MB): 218.78\n",
            "Params size (MB): 527.79\n",
            "Estimated Total Size (MB): 747.15\n",
            "----------------------------------------------------------------\n"
          ]
        },
        {
          "output_type": "stream",
          "name": "stderr",
          "text": [
            "/usr/local/lib/python3.7/dist-packages/torch/nn/functional.py:718: UserWarning: Named tensors and all their associated APIs are an experimental feature and subject to change. Please do not use them for anything important until they are released as stable. (Triggered internally at  /pytorch/c10/core/TensorImpl.h:1156.)\n",
            "  return torch.max_pool2d(input, kernel_size, stride, padding, dilation, ceil_mode)\n"
          ]
        }
      ]
    },
    {
      "cell_type": "code",
      "metadata": {
        "id": "aJ-u1iiNkAzZ"
      },
      "source": [
        "class EarlyStopping():\n",
        "    \"\"\"\n",
        "    Early stopping to stop the training when the loss does not improve after\n",
        "    certain epochs.\n",
        "    \"\"\"\n",
        "    def __init__(self, patience=10, min_delta=0):\n",
        "        \"\"\"\n",
        "        :param patience: how many epochs to wait before stopping when loss is\n",
        "               not improving\n",
        "        :param min_delta: minimum difference between new loss and old loss for\n",
        "               new loss to be considered as an improvement\n",
        "        \"\"\"\n",
        "        self.patience = patience\n",
        "        self.min_delta = min_delta\n",
        "        self.counter = 0\n",
        "        self.best_loss = None\n",
        "        self.early_stop = False\n",
        "    def __call__(self, val_loss):\n",
        "        if self.best_loss == None:\n",
        "            self.best_loss = val_loss\n",
        "        elif self.best_loss - val_loss > self.min_delta:\n",
        "            self.best_loss = val_loss\n",
        "        elif self.best_loss - val_loss < self.min_delta:\n",
        "            self.counter += 1\n",
        "            print(f\"INFO: Early stopping counter {self.counter} of {self.patience}\")\n",
        "            if self.counter >= self.patience:\n",
        "                print('INFO: Early stopping')\n",
        "                self.early_stop = True"
      ],
      "execution_count": null,
      "outputs": []
    },
    {
      "cell_type": "code",
      "metadata": {
        "colab": {
          "base_uri": "https://localhost:8080/"
        },
        "id": "hOI_sF2Abvdh",
        "outputId": "e0901e62-8afb-4324-a63b-db8dabea4f5e"
      },
      "source": [
        "optimizer = tc.optim.Adam(model.parameters(), lr=0.000001)\n",
        "cost_function = nn.CrossEntropyLoss()\n",
        "num_epochs = 100\n",
        "\n",
        "early_stopping = EarlyStopping()\n",
        "start = time.time()\n",
        "\n",
        "train_losses = []\n",
        "train_accuracy = []\n",
        "eval_losses = []\n",
        "eval_accuracy = []\n",
        "\n",
        "for epoch in range(num_epochs):\n",
        "  running_loss = 0.0\n",
        "  correct = 0\n",
        "  total = 0\n",
        "  running_val_loss = 0.0\n",
        "  correct_val = 0\n",
        "  total_val = 0 \n",
        "  print(f'Epoch: {epoch+1}')\n",
        "\n",
        "  model.train()\n",
        "  for image, label in tqdm.tqdm(train_dataloader, position=0, leave=True):  \n",
        "    image = image.to(device)\n",
        "    label = label.to(device)\n",
        "\n",
        "    optimizer.zero_grad()\n",
        "    results = model(image)\n",
        "    loss = cost_function(results, label)\n",
        "    loss.backward()\n",
        "    optimizer.step()\n",
        "\n",
        "    running_loss += loss.item()\n",
        "    _, predicted = results.max(1)\n",
        "    total += label.size(0)\n",
        "    correct += predicted.eq(label).sum().item()\n",
        "\n",
        "  train_loss = running_loss / len(train_dataloader)\n",
        "  accuracy = 100. * correct / total\n",
        "  \n",
        "  train_accuracy.append(accuracy)\n",
        "  train_losses.append(train_loss)\n",
        "  print('Train Loss: %.3f | Accuracy: %.3f'%(train_loss, accuracy))\n",
        "\n",
        "\n",
        "  model.eval()\n",
        "  with tc.no_grad():\n",
        "    for image, label in tqdm.tqdm(validation_dataloader, position=0, leave=True):\n",
        "      \n",
        "      image = image.to(device)\n",
        "      label = label.to(device)\n",
        "\n",
        "      results = model(image)\n",
        "      val_loss = cost_function(results, label)\n",
        "\n",
        "      running_val_loss += val_loss.item()\n",
        "      _, predicted_val = results.max(1)\n",
        "      total_val += labels.size(0)\n",
        "      correct_val += predicted_val.eq(label).sum().item()\n",
        "\n",
        "  val_loss = running_val_loss / len(validation_dataloader)\n",
        "  accuracy_val = 100. * correct_val / total_val\n",
        "\n",
        "  eval_losses.append(val_loss)\n",
        "  eval_accuracy.append(accuracy_val)\n",
        "\n",
        "  print('Validation Loss: %.3f | Accuracy: %.3f'%(val_loss, accuracy_val))\n",
        "\n",
        "  early_stopping(val_loss)\n",
        "  if early_stopping.early_stop:\n",
        "      break\n",
        "\n",
        "end = time.time()\n",
        "print(f\"Training time: {(end-start)/60:.3f} minutes\")"
      ],
      "execution_count": null,
      "outputs": [
        {
          "output_type": "stream",
          "name": "stdout",
          "text": [
            "Epoch: 1\n"
          ]
        },
        {
          "output_type": "stream",
          "name": "stderr",
          "text": [
            "100%|██████████| 682/682 [15:37<00:00,  1.37s/it]\n"
          ]
        },
        {
          "output_type": "stream",
          "name": "stdout",
          "text": [
            "Train Loss: 3.084 | Accuracy: 35.803\n"
          ]
        },
        {
          "output_type": "stream",
          "name": "stderr",
          "text": [
            "100%|██████████| 36/36 [00:37<00:00,  1.05s/it]\n"
          ]
        },
        {
          "output_type": "stream",
          "name": "stdout",
          "text": [
            "Validation Loss: 0.904 | Accuracy: 68.750\n",
            "Epoch: 2\n"
          ]
        },
        {
          "output_type": "stream",
          "name": "stderr",
          "text": [
            "100%|██████████| 682/682 [04:16<00:00,  2.65it/s]\n"
          ]
        },
        {
          "output_type": "stream",
          "name": "stdout",
          "text": [
            "Train Loss: 0.908 | Accuracy: 68.085\n"
          ]
        },
        {
          "output_type": "stream",
          "name": "stderr",
          "text": [
            "100%|██████████| 36/36 [00:05<00:00,  7.06it/s]\n"
          ]
        },
        {
          "output_type": "stream",
          "name": "stdout",
          "text": [
            "Validation Loss: 0.610 | Accuracy: 79.861\n",
            "Epoch: 3\n"
          ]
        },
        {
          "output_type": "stream",
          "name": "stderr",
          "text": [
            "100%|██████████| 682/682 [04:17<00:00,  2.65it/s]\n"
          ]
        },
        {
          "output_type": "stream",
          "name": "stdout",
          "text": [
            "Train Loss: 0.609 | Accuracy: 79.054\n"
          ]
        },
        {
          "output_type": "stream",
          "name": "stderr",
          "text": [
            "100%|██████████| 36/36 [00:05<00:00,  6.96it/s]\n"
          ]
        },
        {
          "output_type": "stream",
          "name": "stdout",
          "text": [
            "Validation Loss: 0.435 | Accuracy: 82.639\n",
            "Epoch: 4\n"
          ]
        },
        {
          "output_type": "stream",
          "name": "stderr",
          "text": [
            "100%|██████████| 682/682 [04:17<00:00,  2.65it/s]\n"
          ]
        },
        {
          "output_type": "stream",
          "name": "stdout",
          "text": [
            "Train Loss: 0.466 | Accuracy: 83.419\n"
          ]
        },
        {
          "output_type": "stream",
          "name": "stderr",
          "text": [
            "100%|██████████| 36/36 [00:05<00:00,  7.12it/s]\n"
          ]
        },
        {
          "output_type": "stream",
          "name": "stdout",
          "text": [
            "Validation Loss: 0.356 | Accuracy: 86.111\n",
            "Epoch: 5\n"
          ]
        },
        {
          "output_type": "stream",
          "name": "stderr",
          "text": [
            "100%|██████████| 682/682 [04:17<00:00,  2.65it/s]\n"
          ]
        },
        {
          "output_type": "stream",
          "name": "stdout",
          "text": [
            "Train Loss: 0.364 | Accuracy: 86.941\n"
          ]
        },
        {
          "output_type": "stream",
          "name": "stderr",
          "text": [
            "100%|██████████| 36/36 [00:05<00:00,  7.02it/s]\n"
          ]
        },
        {
          "output_type": "stream",
          "name": "stdout",
          "text": [
            "Validation Loss: 0.291 | Accuracy: 88.194\n",
            "Epoch: 6\n"
          ]
        },
        {
          "output_type": "stream",
          "name": "stderr",
          "text": [
            "100%|██████████| 682/682 [04:18<00:00,  2.64it/s]\n"
          ]
        },
        {
          "output_type": "stream",
          "name": "stdout",
          "text": [
            "Train Loss: 0.300 | Accuracy: 89.729\n"
          ]
        },
        {
          "output_type": "stream",
          "name": "stderr",
          "text": [
            "100%|██████████| 36/36 [00:05<00:00,  6.93it/s]\n"
          ]
        },
        {
          "output_type": "stream",
          "name": "stdout",
          "text": [
            "Validation Loss: 0.261 | Accuracy: 87.500\n",
            "Epoch: 7\n"
          ]
        },
        {
          "output_type": "stream",
          "name": "stderr",
          "text": [
            "100%|██████████| 682/682 [04:18<00:00,  2.64it/s]\n"
          ]
        },
        {
          "output_type": "stream",
          "name": "stdout",
          "text": [
            "Train Loss: 0.251 | Accuracy: 91.856\n"
          ]
        },
        {
          "output_type": "stream",
          "name": "stderr",
          "text": [
            "100%|██████████| 36/36 [00:05<00:00,  6.98it/s]\n"
          ]
        },
        {
          "output_type": "stream",
          "name": "stdout",
          "text": [
            "Validation Loss: 0.226 | Accuracy: 90.972\n",
            "Epoch: 8\n"
          ]
        },
        {
          "output_type": "stream",
          "name": "stderr",
          "text": [
            "100%|██████████| 682/682 [04:19<00:00,  2.63it/s]\n"
          ]
        },
        {
          "output_type": "stream",
          "name": "stdout",
          "text": [
            "Train Loss: 0.191 | Accuracy: 93.544\n"
          ]
        },
        {
          "output_type": "stream",
          "name": "stderr",
          "text": [
            "100%|██████████| 36/36 [00:05<00:00,  6.96it/s]\n"
          ]
        },
        {
          "output_type": "stream",
          "name": "stdout",
          "text": [
            "Validation Loss: 0.216 | Accuracy: 89.583\n",
            "Epoch: 9\n"
          ]
        },
        {
          "output_type": "stream",
          "name": "stderr",
          "text": [
            "100%|██████████| 682/682 [04:19<00:00,  2.63it/s]\n"
          ]
        },
        {
          "output_type": "stream",
          "name": "stdout",
          "text": [
            "Train Loss: 0.151 | Accuracy: 94.974\n"
          ]
        },
        {
          "output_type": "stream",
          "name": "stderr",
          "text": [
            "100%|██████████| 36/36 [00:05<00:00,  6.87it/s]\n"
          ]
        },
        {
          "output_type": "stream",
          "name": "stdout",
          "text": [
            "Validation Loss: 0.202 | Accuracy: 91.667\n",
            "Epoch: 10\n"
          ]
        },
        {
          "output_type": "stream",
          "name": "stderr",
          "text": [
            "100%|██████████| 682/682 [04:19<00:00,  2.63it/s]\n"
          ]
        },
        {
          "output_type": "stream",
          "name": "stdout",
          "text": [
            "Train Loss: 0.123 | Accuracy: 95.818\n"
          ]
        },
        {
          "output_type": "stream",
          "name": "stderr",
          "text": [
            "100%|██████████| 36/36 [00:05<00:00,  6.92it/s]\n"
          ]
        },
        {
          "output_type": "stream",
          "name": "stdout",
          "text": [
            "Validation Loss: 0.180 | Accuracy: 93.056\n",
            "Epoch: 11\n"
          ]
        },
        {
          "output_type": "stream",
          "name": "stderr",
          "text": [
            "100%|██████████| 682/682 [04:18<00:00,  2.64it/s]\n"
          ]
        },
        {
          "output_type": "stream",
          "name": "stdout",
          "text": [
            "Train Loss: 0.100 | Accuracy: 96.772\n"
          ]
        },
        {
          "output_type": "stream",
          "name": "stderr",
          "text": [
            "100%|██████████| 36/36 [00:05<00:00,  6.96it/s]\n"
          ]
        },
        {
          "output_type": "stream",
          "name": "stdout",
          "text": [
            "Validation Loss: 0.168 | Accuracy: 93.750\n",
            "Epoch: 12\n"
          ]
        },
        {
          "output_type": "stream",
          "name": "stderr",
          "text": [
            "100%|██████████| 682/682 [04:18<00:00,  2.64it/s]\n"
          ]
        },
        {
          "output_type": "stream",
          "name": "stdout",
          "text": [
            "Train Loss: 0.071 | Accuracy: 98.166\n"
          ]
        },
        {
          "output_type": "stream",
          "name": "stderr",
          "text": [
            "100%|██████████| 36/36 [00:05<00:00,  6.95it/s]\n"
          ]
        },
        {
          "output_type": "stream",
          "name": "stdout",
          "text": [
            "Validation Loss: 0.170 | Accuracy: 91.667\n",
            "INFO: Early stopping counter 1 of 10\n",
            "Epoch: 13\n"
          ]
        },
        {
          "output_type": "stream",
          "name": "stderr",
          "text": [
            "100%|██████████| 682/682 [04:18<00:00,  2.63it/s]\n"
          ]
        },
        {
          "output_type": "stream",
          "name": "stdout",
          "text": [
            "Train Loss: 0.052 | Accuracy: 98.459\n"
          ]
        },
        {
          "output_type": "stream",
          "name": "stderr",
          "text": [
            "100%|██████████| 36/36 [00:05<00:00,  6.91it/s]\n"
          ]
        },
        {
          "output_type": "stream",
          "name": "stdout",
          "text": [
            "Validation Loss: 0.159 | Accuracy: 93.056\n",
            "Epoch: 14\n"
          ]
        },
        {
          "output_type": "stream",
          "name": "stderr",
          "text": [
            "100%|██████████| 682/682 [04:17<00:00,  2.64it/s]\n"
          ]
        },
        {
          "output_type": "stream",
          "name": "stdout",
          "text": [
            "Train Loss: 0.047 | Accuracy: 98.716\n"
          ]
        },
        {
          "output_type": "stream",
          "name": "stderr",
          "text": [
            "100%|██████████| 36/36 [00:05<00:00,  6.93it/s]\n"
          ]
        },
        {
          "output_type": "stream",
          "name": "stdout",
          "text": [
            "Validation Loss: 0.160 | Accuracy: 93.750\n",
            "INFO: Early stopping counter 2 of 10\n",
            "Epoch: 15\n"
          ]
        },
        {
          "output_type": "stream",
          "name": "stderr",
          "text": [
            "100%|██████████| 682/682 [04:19<00:00,  2.63it/s]\n"
          ]
        },
        {
          "output_type": "stream",
          "name": "stdout",
          "text": [
            "Train Loss: 0.035 | Accuracy: 99.120\n"
          ]
        },
        {
          "output_type": "stream",
          "name": "stderr",
          "text": [
            "100%|██████████| 36/36 [00:05<00:00,  6.86it/s]\n"
          ]
        },
        {
          "output_type": "stream",
          "name": "stdout",
          "text": [
            "Validation Loss: 0.175 | Accuracy: 93.056\n",
            "INFO: Early stopping counter 3 of 10\n",
            "Epoch: 16\n"
          ]
        },
        {
          "output_type": "stream",
          "name": "stderr",
          "text": [
            "100%|██████████| 682/682 [04:20<00:00,  2.62it/s]\n"
          ]
        },
        {
          "output_type": "stream",
          "name": "stdout",
          "text": [
            "Train Loss: 0.025 | Accuracy: 99.450\n"
          ]
        },
        {
          "output_type": "stream",
          "name": "stderr",
          "text": [
            "100%|██████████| 36/36 [00:05<00:00,  6.89it/s]\n"
          ]
        },
        {
          "output_type": "stream",
          "name": "stdout",
          "text": [
            "Validation Loss: 0.190 | Accuracy: 93.056\n",
            "INFO: Early stopping counter 4 of 10\n",
            "Epoch: 17\n"
          ]
        },
        {
          "output_type": "stream",
          "name": "stderr",
          "text": [
            "100%|██████████| 682/682 [04:19<00:00,  2.62it/s]\n"
          ]
        },
        {
          "output_type": "stream",
          "name": "stdout",
          "text": [
            "Train Loss: 0.022 | Accuracy: 99.450\n"
          ]
        },
        {
          "output_type": "stream",
          "name": "stderr",
          "text": [
            "100%|██████████| 36/36 [00:05<00:00,  6.97it/s]\n"
          ]
        },
        {
          "output_type": "stream",
          "name": "stdout",
          "text": [
            "Validation Loss: 0.158 | Accuracy: 95.139\n",
            "Epoch: 18\n"
          ]
        },
        {
          "output_type": "stream",
          "name": "stderr",
          "text": [
            "100%|██████████| 682/682 [04:19<00:00,  2.63it/s]\n"
          ]
        },
        {
          "output_type": "stream",
          "name": "stdout",
          "text": [
            "Train Loss: 0.016 | Accuracy: 99.596\n"
          ]
        },
        {
          "output_type": "stream",
          "name": "stderr",
          "text": [
            "100%|██████████| 36/36 [00:05<00:00,  6.90it/s]\n"
          ]
        },
        {
          "output_type": "stream",
          "name": "stdout",
          "text": [
            "Validation Loss: 0.173 | Accuracy: 93.056\n",
            "INFO: Early stopping counter 5 of 10\n",
            "Epoch: 19\n"
          ]
        },
        {
          "output_type": "stream",
          "name": "stderr",
          "text": [
            "100%|██████████| 682/682 [04:19<00:00,  2.63it/s]\n"
          ]
        },
        {
          "output_type": "stream",
          "name": "stdout",
          "text": [
            "Train Loss: 0.016 | Accuracy: 99.707\n"
          ]
        },
        {
          "output_type": "stream",
          "name": "stderr",
          "text": [
            "100%|██████████| 36/36 [00:05<00:00,  6.89it/s]\n"
          ]
        },
        {
          "output_type": "stream",
          "name": "stdout",
          "text": [
            "Validation Loss: 0.167 | Accuracy: 93.750\n",
            "INFO: Early stopping counter 6 of 10\n",
            "Epoch: 20\n"
          ]
        },
        {
          "output_type": "stream",
          "name": "stderr",
          "text": [
            "100%|██████████| 682/682 [04:18<00:00,  2.63it/s]\n"
          ]
        },
        {
          "output_type": "stream",
          "name": "stdout",
          "text": [
            "Train Loss: 0.011 | Accuracy: 99.817\n"
          ]
        },
        {
          "output_type": "stream",
          "name": "stderr",
          "text": [
            "100%|██████████| 36/36 [00:05<00:00,  7.04it/s]\n"
          ]
        },
        {
          "output_type": "stream",
          "name": "stdout",
          "text": [
            "Validation Loss: 0.159 | Accuracy: 94.444\n",
            "INFO: Early stopping counter 7 of 10\n",
            "Epoch: 21\n"
          ]
        },
        {
          "output_type": "stream",
          "name": "stderr",
          "text": [
            "100%|██████████| 682/682 [04:19<00:00,  2.63it/s]\n"
          ]
        },
        {
          "output_type": "stream",
          "name": "stdout",
          "text": [
            "Train Loss: 0.010 | Accuracy: 99.817\n"
          ]
        },
        {
          "output_type": "stream",
          "name": "stderr",
          "text": [
            "100%|██████████| 36/36 [00:05<00:00,  7.00it/s]\n"
          ]
        },
        {
          "output_type": "stream",
          "name": "stdout",
          "text": [
            "Validation Loss: 0.164 | Accuracy: 93.750\n",
            "INFO: Early stopping counter 8 of 10\n",
            "Epoch: 22\n"
          ]
        },
        {
          "output_type": "stream",
          "name": "stderr",
          "text": [
            "100%|██████████| 682/682 [04:18<00:00,  2.64it/s]\n"
          ]
        },
        {
          "output_type": "stream",
          "name": "stdout",
          "text": [
            "Train Loss: 0.007 | Accuracy: 99.780\n"
          ]
        },
        {
          "output_type": "stream",
          "name": "stderr",
          "text": [
            "100%|██████████| 36/36 [00:05<00:00,  7.04it/s]\n"
          ]
        },
        {
          "output_type": "stream",
          "name": "stdout",
          "text": [
            "Validation Loss: 0.146 | Accuracy: 94.444\n",
            "Epoch: 23\n"
          ]
        },
        {
          "output_type": "stream",
          "name": "stderr",
          "text": [
            "100%|██████████| 682/682 [04:18<00:00,  2.64it/s]\n"
          ]
        },
        {
          "output_type": "stream",
          "name": "stdout",
          "text": [
            "Train Loss: 0.009 | Accuracy: 99.743\n"
          ]
        },
        {
          "output_type": "stream",
          "name": "stderr",
          "text": [
            "100%|██████████| 36/36 [00:05<00:00,  7.00it/s]\n"
          ]
        },
        {
          "output_type": "stream",
          "name": "stdout",
          "text": [
            "Validation Loss: 0.151 | Accuracy: 94.444\n",
            "INFO: Early stopping counter 9 of 10\n",
            "Epoch: 24\n"
          ]
        },
        {
          "output_type": "stream",
          "name": "stderr",
          "text": [
            "100%|██████████| 682/682 [04:18<00:00,  2.64it/s]\n"
          ]
        },
        {
          "output_type": "stream",
          "name": "stdout",
          "text": [
            "Train Loss: 0.004 | Accuracy: 99.927\n"
          ]
        },
        {
          "output_type": "stream",
          "name": "stderr",
          "text": [
            "100%|██████████| 36/36 [00:05<00:00,  7.04it/s]"
          ]
        },
        {
          "output_type": "stream",
          "name": "stdout",
          "text": [
            "Validation Loss: 0.162 | Accuracy: 96.528\n",
            "INFO: Early stopping counter 10 of 10\n",
            "INFO: Early stopping\n",
            "Training time: 117.400 minutes\n"
          ]
        },
        {
          "output_type": "stream",
          "name": "stderr",
          "text": [
            "\n"
          ]
        }
      ]
    },
    {
      "cell_type": "code",
      "metadata": {
        "id": "8YOzSOAL9n6M",
        "colab": {
          "base_uri": "https://localhost:8080/",
          "height": 573
        },
        "outputId": "d4157805-7e96-4ed4-cf64-f291ba1666f2"
      },
      "source": [
        "#plot accuracy\n",
        "plt.plot(train_accuracy,'.-')\n",
        "plt.plot(eval_accuracy,'.-')\n",
        "plt.xlabel('epoch')\n",
        "plt.ylabel('accuracy [%]')\n",
        "plt.legend(['Train','Valid'], loc=\"lower right\")\n",
        "plt.title(\"Model accuracy\")\n",
        "plt.show()\n",
        "\n",
        "#plot losses\n",
        "plt.plot(train_losses,'.-')\n",
        "plt.plot(eval_losses,'.-')\n",
        "plt.xlabel('epoch')\n",
        "plt.ylabel('loss')\n",
        "plt.legend(['Train','Valid'])\n",
        "plt.title(\"Model loss\")\n",
        "plt.show()"
      ],
      "execution_count": null,
      "outputs": [
        {
          "output_type": "display_data",
          "data": {
            "image/png": "[encoded data removed]",
            "text/plain": [
              "<Figure size 432x288 with 1 Axes>"
            ]
          },
          "metadata": {
            "needs_background": "light"
          }
        },
        {
          "output_type": "display_data",
          "data": {
            "image/png": "[encoded data removed]",
            "text/plain": [
              "<Figure size 432x288 with 1 Axes>"
            ]
          },
          "metadata": {
            "needs_background": "light"
          }
        }
      ]
    },
    {
      "cell_type": "code",
      "metadata": {
        "id": "Aq8TLWp14AsY",
        "colab": {
          "base_uri": "https://localhost:8080/"
        },
        "outputId": "1d0c1f01-09eb-41cf-edbd-82ecb5ff7209"
      },
      "source": [
        "model.eval()\n",
        "actuals = []\n",
        "predictions = []\n",
        "\n",
        "with tc.no_grad():\n",
        "  for image, label in test_dataloader:    \n",
        "    image = image.to(device)                     # GPU\n",
        "    label = label.to(device)\n",
        "    results = model(image)             \n",
        "    prediction = results.argmax(dim=1, keepdim=True)     \n",
        "    actuals.extend(label.view_as(prediction))        #[]\n",
        "    predictions.extend(prediction)\n",
        "\n",
        "actuals = [i.item() for i in actuals]\n",
        "predictions = [i.item() for i in predictions]\n",
        "\n",
        "cm = confusion_matrix(actuals, predictions)\n",
        "print(\"Confusion Matrix : \")\n",
        "print(cm)\n",
        "print('Precision score: %f' % precision_score(actuals, predictions, average='macro'))\n",
        "print('Accuracy score: %f' % accuracy_score(actuals, predictions))\n",
        "print('F1 score: %f' % f1_score(actuals, predictions, average='macro'))\n",
        "print(classification_report(actuals, predictions)) "
      ],
      "execution_count": null,
      "outputs": [
        {
          "output_type": "stream",
          "name": "stdout",
          "text": [
            "Confusion Matrix : \n",
            "[[ 27  41   2  30]\n",
            " [  0 113   0   2]\n",
            " [  0   6  62   6]\n",
            " [  0   0   0 105]]\n",
            "Precision score: 0.852316\n",
            "Accuracy score: 0.779188\n",
            "F1 score: 0.748085\n",
            "              precision    recall  f1-score   support\n",
            "\n",
            "           0       1.00      0.27      0.43       100\n",
            "           1       0.71      0.98      0.82       115\n",
            "           2       0.97      0.84      0.90        74\n",
            "           3       0.73      1.00      0.85       105\n",
            "\n",
            "    accuracy                           0.78       394\n",
            "   macro avg       0.85      0.77      0.75       394\n",
            "weighted avg       0.84      0.78      0.74       394\n",
            "\n"
          ]
        }
      ]
    },
    {
      "cell_type": "code",
      "metadata": {
        "id": "oarpChT92C0e",
        "colab": {
          "base_uri": "https://localhost:8080/",
          "height": 427
        },
        "outputId": "f4569386-257e-4d10-fe14-cc024179ec7c"
      },
      "source": [
        "#classes = ['Glioma', 'Meningioma', 'Pituitary', 'No Tumor']\n",
        "plt.figure(figsize=(7,6))\n",
        "sns.heatmap(cm, xticklabels=classes, yticklabels=['','','',''], annot=True, fmt='.3g',  cmap='YlGnBu')   #Reds\n",
        "plt.ylabel('True label \\n \\n \\n   No Tumor           Pituitary          Meningioma          Glioma    ')\n",
        "plt.xlabel('\\n \\n  Predicted label')\n",
        "plt.title('Confusion matrix')\n",
        "plt.show()"
      ],
      "execution_count": null,
      "outputs": [
        {
          "output_type": "display_data",
          "data": {
            "image/png": "[encoded data removed]",
            "text/plain": [
              "<Figure size 504x432 with 2 Axes>"
            ]
          },
          "metadata": {
            "needs_background": "light"
          }
        }
      ]
    },
    {
      "cell_type": "code",
      "metadata": {
        "id": "iPBlBler0iiv",
        "colab": {
          "base_uri": "https://localhost:8080/",
          "height": 404
        },
        "outputId": "6f09a829-9b5a-4d8c-a008-6f0884393480"
      },
      "source": [
        "def class_probabilities(number_of_class):\n",
        "  model.eval()\n",
        "  actuals = []\n",
        "  probabilities = []\n",
        "  with tc.no_grad():\n",
        "    for image, label in test_dataloader:\n",
        "      image = image.to(device)\n",
        "      label = label.to(device)\n",
        "      results = model(image)\n",
        "      prediction = results.argmax(dim=1, keepdim=True)\n",
        "      actuals.extend(label.view_as(prediction) == number_of_class)\n",
        "      probabilities.extend(np.exp(results.cpu()[:, number_of_class]))\n",
        "\n",
        "  actuals = [i.item() for i in actuals]\n",
        "  probabilities = [i.item() for i in probabilities]\n",
        "  \n",
        "  fpr, tpr, _ = roc_curve(actuals, probabilities)\n",
        "  roc_auc = auc(fpr, tpr)\n",
        "\n",
        "  return fpr, tpr, roc_auc\n",
        "\n",
        "fpr_dict ={}\n",
        "tpr_dict = {}\n",
        "roc_auc_dict = {}\n",
        "for i in range(4):\n",
        "  fpr, tpr, roc_auc = class_probabilities(i)\n",
        "  fpr_dict[i] = fpr\n",
        "  tpr_dict[i] = tpr\n",
        "  roc_auc_dict[i] = roc_auc\n",
        "\n",
        "colors = ['r', 'g', 'b', 'orange']\n",
        "\n",
        "plt.figure(figsize=[11,6])\n",
        "for i in range(4):\n",
        "  plt.plot(fpr_dict[i], tpr_dict[i], color = colors[i], label='ROC curve class: ' + classes[i] + ' (AUC = %0.2f)' % roc_auc_dict[i])\n",
        "plt.xlabel('False Positive Rate')\n",
        "plt.ylabel('True Positive Rate')\n",
        "plt.legend(loc=\"lower right\")\n",
        "plt.title(\"ROC curve\")\n",
        "\n",
        "plt.show()"
      ],
      "execution_count": null,
      "outputs": [
        {
          "output_type": "display_data",
          "data": {
            "image/png": "[encoded data removed]",
            "text/plain": [
              "<Figure size 792x432 with 1 Axes>"
            ]
          },
          "metadata": {
            "needs_background": "light"
          }
        }
      ]
    },
    {
      "cell_type": "code",
      "metadata": {
        "id": "zIzd55l-ufFa"
      },
      "source": [
        ""
      ],
      "execution_count": null,
      "outputs": []
    }
  ]
}