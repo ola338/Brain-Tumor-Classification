{
  "nbformat": 4,
  "nbformat_minor": 0,
  "metadata": {
    "accelerator": "GPU",
    "colab": {
      "name": "Brain_tumor.ipynb",
      "provenance": [],
      "collapsed_sections": []
    },
    "kernelspec": {
      "display_name": "Python 3",
      "language": "python",
      "name": "python3"
    },
    "language_info": {
      "codemirror_mode": {
        "name": "ipython",
        "version": 3
      },
      "file_extension": ".py",
      "mimetype": "text/x-python",
      "name": "python",
      "nbconvert_exporter": "python",
      "pygments_lexer": "ipython3",
      "version": "3.7.1"
    },
    "pycharm": {
      "stem_cell": {
        "cell_type": "raw",
        "metadata": {
          "collapsed": false
        },
        "source": []
      }
    },
    "widgets": {
      "application/vnd.jupyter.widget-state+json": {
        "c1d197ecc7e7463ab4a0c062cbda0118": {
          "model_module": "@jupyter-widgets/controls",
          "model_name": "HBoxModel",
          "model_module_version": "1.5.0",
          "state": {
            "_view_name": "HBoxView",
            "_dom_classes": [],
            "_model_name": "HBoxModel",
            "_view_module": "@jupyter-widgets/controls",
            "_model_module_version": "1.5.0",
            "_view_count": null,
            "_view_module_version": "1.5.0",
            "box_style": "",
            "layout": "IPY_MODEL_da42d93f8c4344139fe0a30543e7fa3b",
            "_model_module": "@jupyter-widgets/controls",
            "children": [
              "IPY_MODEL_0fbc52f0f6564296b7c9e93ff674e050",
              "IPY_MODEL_9da0bf14ee294c5bab6f50a069b73727",
              "IPY_MODEL_12b2040104964bd7a1ac2cb708460f4a"
            ]
          }
        },
        "da42d93f8c4344139fe0a30543e7fa3b": {
          "model_module": "@jupyter-widgets/base",
          "model_name": "LayoutModel",
          "model_module_version": "1.2.0",
          "state": {
            "_view_name": "LayoutView",
            "grid_template_rows": null,
            "right": null,
            "justify_content": null,
            "_view_module": "@jupyter-widgets/base",
            "overflow": null,
            "_model_module_version": "1.2.0",
            "_view_count": null,
            "flex_flow": null,
            "width": null,
            "min_width": null,
            "border": null,
            "align_items": null,
            "bottom": null,
            "_model_module": "@jupyter-widgets/base",
            "top": null,
            "grid_column": null,
            "overflow_y": null,
            "overflow_x": null,
            "grid_auto_flow": null,
            "grid_area": null,
            "grid_template_columns": null,
            "flex": null,
            "_model_name": "LayoutModel",
            "justify_items": null,
            "grid_row": null,
            "max_height": null,
            "align_content": null,
            "visibility": null,
            "align_self": null,
            "height": null,
            "min_height": null,
            "padding": null,
            "grid_auto_rows": null,
            "grid_gap": null,
            "max_width": null,
            "order": null,
            "_view_module_version": "1.2.0",
            "grid_template_areas": null,
            "object_position": null,
            "object_fit": null,
            "grid_auto_columns": null,
            "margin": null,
            "display": null,
            "left": null
          }
        },
        "0fbc52f0f6564296b7c9e93ff674e050": {
          "model_module": "@jupyter-widgets/controls",
          "model_name": "HTMLModel",
          "model_module_version": "1.5.0",
          "state": {
            "_view_name": "HTMLView",
            "style": "IPY_MODEL_7387c95f83dd44f9be6b0b76206b0c4f",
            "_dom_classes": [],
            "description": "",
            "_model_name": "HTMLModel",
            "placeholder": "​",
            "_view_module": "@jupyter-widgets/controls",
            "_model_module_version": "1.5.0",
            "value": "100%",
            "_view_count": null,
            "_view_module_version": "1.5.0",
            "description_tooltip": null,
            "_model_module": "@jupyter-widgets/controls",
            "layout": "IPY_MODEL_0b80d144f3214272b87caa588d3bbfb5"
          }
        },
        "9da0bf14ee294c5bab6f50a069b73727": {
          "model_module": "@jupyter-widgets/controls",
          "model_name": "FloatProgressModel",
          "model_module_version": "1.5.0",
          "state": {
            "_view_name": "ProgressView",
            "style": "IPY_MODEL_292d0a01e99045fea7c67e903a3c9d34",
            "_dom_classes": [],
            "description": "",
            "_model_name": "FloatProgressModel",
            "bar_style": "success",
            "max": 553433881,
            "_view_module": "@jupyter-widgets/controls",
            "_model_module_version": "1.5.0",
            "value": 553433881,
            "_view_count": null,
            "_view_module_version": "1.5.0",
            "orientation": "horizontal",
            "min": 0,
            "description_tooltip": null,
            "_model_module": "@jupyter-widgets/controls",
            "layout": "IPY_MODEL_816b1e16749f4efd945911812e1c90de"
          }
        },
        "12b2040104964bd7a1ac2cb708460f4a": {
          "model_module": "@jupyter-widgets/controls",
          "model_name": "HTMLModel",
          "model_module_version": "1.5.0",
          "state": {
            "_view_name": "HTMLView",
            "style": "IPY_MODEL_c8b7dffebec44b6fb18e1cc3d95bfa41",
            "_dom_classes": [],
            "description": "",
            "_model_name": "HTMLModel",
            "placeholder": "​",
            "_view_module": "@jupyter-widgets/controls",
            "_model_module_version": "1.5.0",
            "value": " 528M/528M [00:05&lt;00:00, 108MB/s]",
            "_view_count": null,
            "_view_module_version": "1.5.0",
            "description_tooltip": null,
            "_model_module": "@jupyter-widgets/controls",
            "layout": "IPY_MODEL_531ef07fb4974fe790f86abf696112e3"
          }
        },
        "7387c95f83dd44f9be6b0b76206b0c4f": {
          "model_module": "@jupyter-widgets/controls",
          "model_name": "DescriptionStyleModel",
          "model_module_version": "1.5.0",
          "state": {
            "_view_name": "StyleView",
            "_model_name": "DescriptionStyleModel",
            "description_width": "",
            "_view_module": "@jupyter-widgets/base",
            "_model_module_version": "1.5.0",
            "_view_count": null,
            "_view_module_version": "1.2.0",
            "_model_module": "@jupyter-widgets/controls"
          }
        },
        "0b80d144f3214272b87caa588d3bbfb5": {
          "model_module": "@jupyter-widgets/base",
          "model_name": "LayoutModel",
          "model_module_version": "1.2.0",
          "state": {
            "_view_name": "LayoutView",
            "grid_template_rows": null,
            "right": null,
            "justify_content": null,
            "_view_module": "@jupyter-widgets/base",
            "overflow": null,
            "_model_module_version": "1.2.0",
            "_view_count": null,
            "flex_flow": null,
            "width": null,
            "min_width": null,
            "border": null,
            "align_items": null,
            "bottom": null,
            "_model_module": "@jupyter-widgets/base",
            "top": null,
            "grid_column": null,
            "overflow_y": null,
            "overflow_x": null,
            "grid_auto_flow": null,
            "grid_area": null,
            "grid_template_columns": null,
            "flex": null,
            "_model_name": "LayoutModel",
            "justify_items": null,
            "grid_row": null,
            "max_height": null,
            "align_content": null,
            "visibility": null,
            "align_self": null,
            "height": null,
            "min_height": null,
            "padding": null,
            "grid_auto_rows": null,
            "grid_gap": null,
            "max_width": null,
            "order": null,
            "_view_module_version": "1.2.0",
            "grid_template_areas": null,
            "object_position": null,
            "object_fit": null,
            "grid_auto_columns": null,
            "margin": null,
            "display": null,
            "left": null
          }
        },
        "292d0a01e99045fea7c67e903a3c9d34": {
          "model_module": "@jupyter-widgets/controls",
          "model_name": "ProgressStyleModel",
          "model_module_version": "1.5.0",
          "state": {
            "_view_name": "StyleView",
            "_model_name": "ProgressStyleModel",
            "description_width": "",
            "_view_module": "@jupyter-widgets/base",
            "_model_module_version": "1.5.0",
            "_view_count": null,
            "_view_module_version": "1.2.0",
            "bar_color": null,
            "_model_module": "@jupyter-widgets/controls"
          }
        },
        "816b1e16749f4efd945911812e1c90de": {
          "model_module": "@jupyter-widgets/base",
          "model_name": "LayoutModel",
          "model_module_version": "1.2.0",
          "state": {
            "_view_name": "LayoutView",
            "grid_template_rows": null,
            "right": null,
            "justify_content": null,
            "_view_module": "@jupyter-widgets/base",
            "overflow": null,
            "_model_module_version": "1.2.0",
            "_view_count": null,
            "flex_flow": null,
            "width": null,
            "min_width": null,
            "border": null,
            "align_items": null,
            "bottom": null,
            "_model_module": "@jupyter-widgets/base",
            "top": null,
            "grid_column": null,
            "overflow_y": null,
            "overflow_x": null,
            "grid_auto_flow": null,
            "grid_area": null,
            "grid_template_columns": null,
            "flex": null,
            "_model_name": "LayoutModel",
            "justify_items": null,
            "grid_row": null,
            "max_height": null,
            "align_content": null,
            "visibility": null,
            "align_self": null,
            "height": null,
            "min_height": null,
            "padding": null,
            "grid_auto_rows": null,
            "grid_gap": null,
            "max_width": null,
            "order": null,
            "_view_module_version": "1.2.0",
            "grid_template_areas": null,
            "object_position": null,
            "object_fit": null,
            "grid_auto_columns": null,
            "margin": null,
            "display": null,
            "left": null
          }
        },
        "c8b7dffebec44b6fb18e1cc3d95bfa41": {
          "model_module": "@jupyter-widgets/controls",
          "model_name": "DescriptionStyleModel",
          "model_module_version": "1.5.0",
          "state": {
            "_view_name": "StyleView",
            "_model_name": "DescriptionStyleModel",
            "description_width": "",
            "_view_module": "@jupyter-widgets/base",
            "_model_module_version": "1.5.0",
            "_view_count": null,
            "_view_module_version": "1.2.0",
            "_model_module": "@jupyter-widgets/controls"
          }
        },
        "531ef07fb4974fe790f86abf696112e3": {
          "model_module": "@jupyter-widgets/base",
          "model_name": "LayoutModel",
          "model_module_version": "1.2.0",
          "state": {
            "_view_name": "LayoutView",
            "grid_template_rows": null,
            "right": null,
            "justify_content": null,
            "_view_module": "@jupyter-widgets/base",
            "overflow": null,
            "_model_module_version": "1.2.0",
            "_view_count": null,
            "flex_flow": null,
            "width": null,
            "min_width": null,
            "border": null,
            "align_items": null,
            "bottom": null,
            "_model_module": "@jupyter-widgets/base",
            "top": null,
            "grid_column": null,
            "overflow_y": null,
            "overflow_x": null,
            "grid_auto_flow": null,
            "grid_area": null,
            "grid_template_columns": null,
            "flex": null,
            "_model_name": "LayoutModel",
            "justify_items": null,
            "grid_row": null,
            "max_height": null,
            "align_content": null,
            "visibility": null,
            "align_self": null,
            "height": null,
            "min_height": null,
            "padding": null,
            "grid_auto_rows": null,
            "grid_gap": null,
            "max_width": null,
            "order": null,
            "_view_module_version": "1.2.0",
            "grid_template_areas": null,
            "object_position": null,
            "object_fit": null,
            "grid_auto_columns": null,
            "margin": null,
            "display": null,
            "left": null
          }
        }
      }
    }
  },
  "cells": [
    {
      "cell_type": "code",
      "metadata": {
        "colab": {
          "base_uri": "https://localhost:8080/"
        },
        "id": "QtQd6z5Ed48Q",
        "outputId": "d517d636-abc5-4f0c-d62a-d06e674a85cd"
      },
      "source": [
        "import numpy as np\n",
        "import matplotlib.pyplot as plt\n",
        "import os\n",
        "from skimage import io\n",
        "import random\n",
        "import tqdm\n",
        "import torch as tc\n",
        "import torch.nn as nn\n",
        "from torch.utils.data import Dataset, DataLoader\n",
        "import torchvision\n",
        "from torchvision import transforms, datasets, models\n",
        "from sklearn.model_selection import train_test_split\n",
        "from sklearn.metrics import accuracy_score, precision_score, f1_score, classification_report, confusion_matrix, roc_curve, auc\n",
        "import seaborn as sns\n",
        "! pip install torchsummary\n",
        "from torchsummary import summary\n",
        "import gc\n",
        "from google.colab import drive\n",
        "import time"
      ],
      "execution_count": 1,
      "outputs": [
        {
          "output_type": "stream",
          "name": "stdout",
          "text": [
            "Requirement already satisfied: torchsummary in /usr/local/lib/python3.7/dist-packages (1.5.1)\n"
          ]
        }
      ]
    },
    {
      "cell_type": "code",
      "metadata": {
        "colab": {
          "base_uri": "https://localhost:8080/"
        },
        "id": "_uKIb5s-d48Z",
        "outputId": "95aa3c73-fedc-4886-8b68-2f5c440b9ad6"
      },
      "source": [
        "drive.mount('/content/drive')\n",
        "path = \"/content/drive/My Drive/Brain_tumor\"\n",
        "\n",
        "path_testing = path + \"/crop_square_test\"\n",
        "path_training = path + \"/crop_square_train\"\n",
        "\n",
        "list_train = os.listdir(path_training)\n",
        "list_test = os.listdir(path_testing)\n",
        "print(list_train)\n",
        "print(list_test)"
      ],
      "execution_count": 2,
      "outputs": [
        {
          "output_type": "stream",
          "name": "stdout",
          "text": [
            "Mounted at /content/drive\n",
            "['no_tumor', 'meningioma_tumor', 'glioma_tumor', 'pituitary_tumor']\n",
            "['glioma_tumor', 'no_tumor', 'pituitary_tumor', 'meningioma_tumor']\n"
          ]
        }
      ]
    },
    {
      "cell_type": "code",
      "metadata": {
        "colab": {
          "base_uri": "https://localhost:8080/"
        },
        "id": "5uZiC_aifDP5",
        "outputId": "286e4da5-6974-46f8-a86a-b62c41688645"
      },
      "source": [
        "# training dataset \n",
        "train_glioma = path_training + \"/glioma_tumor\"\n",
        "train_meningioma = path_training + \"/meningioma_tumor\"\n",
        "train_no_tumor = path_training + \"/no_tumor\"\n",
        "train_pituitary = path_training + \"/pituitary_tumor\"\n",
        "\n",
        "print(f'train glioma: {len(os.listdir(train_glioma))}')\n",
        "print(f'train meningioma: {len(os.listdir(train_meningioma))}')\n",
        "print(f'train no tumor: {len(os.listdir(train_no_tumor))}')\n",
        "print(f'train pituitary: {len(os.listdir(train_pituitary))}')\n",
        "\n",
        "# testing dataset\n",
        "test_glioma = path_testing + \"/glioma_tumor\"\n",
        "test_meningioma = path_testing + \"/meningioma_tumor\"\n",
        "test_no_tumor = path_testing + \"/no_tumor\"\n",
        "test_pituitary = path_testing + \"/pituitary_tumor\"\n",
        "\n",
        "print(f'test glioma: {len(os.listdir(test_glioma))}')\n",
        "print(f'test meningioma: {len(os.listdir(test_meningioma))}')\n",
        "print(f'test no tumor: {len(os.listdir(test_no_tumor))}')\n",
        "print(f'test pituitary: {len(os.listdir(test_pituitary))}')"
      ],
      "execution_count": 3,
      "outputs": [
        {
          "output_type": "stream",
          "name": "stdout",
          "text": [
            "train glioma: 826\n",
            "train meningioma: 822\n",
            "train no tumor: 395\n",
            "train pituitary: 827\n",
            "test glioma: 100\n",
            "test meningioma: 115\n",
            "test no tumor: 105\n",
            "test pituitary: 74\n"
          ]
        }
      ]
    },
    {
      "cell_type": "code",
      "metadata": {
        "id": "5MTw4JaM4975"
      },
      "source": [
        "class TumorDataset(tc.utils.data.Dataset):\n",
        "  def __init__(self, image_paths, image_labels, transforms):\n",
        "    self.image_paths = image_paths\n",
        "    self.labels = image_labels\n",
        "    self.transforms = transforms\n",
        "\n",
        "  def __getitem__(self,i):\n",
        "    image = plt.imread(self.image_paths[i])\n",
        "    label = self.labels[i]\n",
        "    image = self.transforms(image)\n",
        "    return image, label\n",
        "\n",
        "  def __len__(self):\n",
        "    return len(self.image_paths)\n",
        "\n",
        "def labels(filename, main_path):\n",
        "    if filename[len(main_path)+1] == \"g\":\n",
        "        label = 0\n",
        "    elif filename[len(main_path)+1] == \"m\":\n",
        "        label = 1\n",
        "    elif filename[len(main_path)+1] == \"p\":\n",
        "        label = 2\n",
        "    else:\n",
        "        label = 3\n",
        "    return label\n",
        "\n",
        "classes = ['Glioma', 'Meningioma', 'Pituitary', 'No Tumor']"
      ],
      "execution_count": 4,
      "outputs": []
    },
    {
      "cell_type": "code",
      "metadata": {
        "id": "eNEBa-4pfFCy"
      },
      "source": [
        "train_path = [path_training + '/' + i + '/' + img \n",
        "                    for i in os.listdir(path_training) \n",
        "                    for img in os.listdir(path_training + '/' + i)\n",
        "                    ]\n",
        "\n",
        "test_path = [path_testing + '/' + i + '/' + img \n",
        "                  for i in os.listdir(path_testing) \n",
        "                  for img in os.listdir(path_testing + '/' + i)\n",
        "                  ]\n",
        "\n",
        "transform = transforms.Compose([transforms.ToTensor(), \n",
        "                                transforms.Resize((224,224)),\n",
        "                                #transforms.Normalize((0.5, 0.5, 0.5), (0.5, 0.5, 0.5)),\n",
        "                                #transforms.ColorJitter(brightness=0.2, contrast=0.5, saturation=0.8),\n",
        "                                #transforms.Normalize(mean=[0.485, 0.456, 0.406], std=[0.229, 0.224, 0.225]),\n",
        "                                #transforms.GaussianBlur(kernel_size=5),\n",
        "                                #transforms.functional.equalize(),\n",
        "                                #transforms.RandomHorizontalFlip(p=0.9),\n",
        "                                #transforms.RandomRotation(degrees=180),\n",
        "                                ])"
      ],
      "execution_count": 5,
      "outputs": []
    },
    {
      "cell_type": "code",
      "metadata": {
        "colab": {
          "base_uri": "https://localhost:8080/"
        },
        "id": "DGRpo87FB4f6",
        "outputId": "3aa3348e-95cb-41a9-ec30-1bb34ace13e0"
      },
      "source": [
        "train_label = [labels(data, path_training) for data in train_path]\n",
        "test_label = [labels(data, path_testing) for data in test_path]\n",
        "print(f\"Train: {len(train_label)}\")\n",
        "print(f\"Test: {len(test_label)}\")\n",
        "\n",
        "#Validation dataset \n",
        "train_path, validation_path, train_label, validation_label = train_test_split(train_path, train_label, test_size=0.05, random_state=10) \n",
        "print(f\"Validation: {len(validation_path)}\")"
      ],
      "execution_count": 6,
      "outputs": [
        {
          "output_type": "stream",
          "name": "stdout",
          "text": [
            "Train: 2870\n",
            "Test: 394\n",
            "Validation: 144\n"
          ]
        }
      ]
    },
    {
      "cell_type": "code",
      "metadata": {
        "colab": {
          "base_uri": "https://localhost:8080/",
          "height": 383
        },
        "id": "EdZePjnimyEJ",
        "outputId": "c4c1e93d-1df3-45c2-ba1c-ef5a517a850c"
      },
      "source": [
        "# random image from train Dataset (before resizing)\n",
        "plt.figure(figsize=(5,6.5))\n",
        "for i in range(4):\n",
        "  n = random.randint(0, len(train_path)-1)\n",
        "  image = plt.imread(train_path[n])\n",
        "  plt.subplot(2,2,i+1)\n",
        "  plt.imshow(image)\n",
        "  plt.title(classes[train_label[n]])\n",
        "plt.show()"
      ],
      "execution_count": 7,
      "outputs": [
        {
          "output_type": "display_data",
          "data": {
            "image/png": "[encoded data removed]",
            "text/plain": [
              "<Figure size 360x468 with 4 Axes>"
            ]
          },
          "metadata": {
            "needs_background": "light"
          }
        }
      ]
    },
    {
      "cell_type": "code",
      "metadata": {
        "id": "-3Je-_8id48f"
      },
      "source": [
        "train_dataset = TumorDataset(train_path, train_label, transforms=transform)\n",
        "test_dataset = TumorDataset(test_path, test_label, transforms=transform)\n",
        "validation_dataset = TumorDataset(validation_path, validation_label, transforms=transform)\n",
        "\n",
        "batch_size = 4\n",
        "num_workers = 2\n",
        "\n",
        "train_dataloader = DataLoader(train_dataset, batch_size=batch_size, shuffle=True)\n",
        "test_dataloader = DataLoader(test_dataset, batch_size=batch_size, shuffle=True)\n",
        "validation_dataloader = DataLoader(validation_dataset, batch_size=batch_size, shuffle=True)"
      ],
      "execution_count": 8,
      "outputs": []
    },
    {
      "cell_type": "code",
      "metadata": {
        "colab": {
          "base_uri": "https://localhost:8080/",
          "height": 369
        },
        "id": "WOlpF9jijtxW",
        "outputId": "5ce29f96-70c0-46ed-f5ab-c1f7d181760b"
      },
      "source": [
        "# random image from train DataLoader (after resizing)\n",
        "plt.figure(figsize=(5,6))\n",
        "for i in range(4):\n",
        "  for images, labels in train_dataloader:\n",
        "    plt.subplot(2,2,i+1)\n",
        "    plt.imshow(images[0, :, :, :].numpy().swapaxes(0, 1).swapaxes(1, 2))\n",
        "    plt.title(classes[labels[0]])\n",
        "    break\n",
        "plt.show()"
      ],
      "execution_count": 9,
      "outputs": [
        {
          "output_type": "display_data",
          "data": {
            "image/png": "[encoded data removed]",
            "text/plain": [
              "<Figure size 360x432 with 4 Axes>"
            ]
          },
          "metadata": {
            "needs_background": "light"
          }
        }
      ]
    },
    {
      "cell_type": "code",
      "metadata": {
        "colab": {
          "base_uri": "https://localhost:8080/",
          "height": 989,
          "referenced_widgets": [
            "c1d197ecc7e7463ab4a0c062cbda0118",
            "da42d93f8c4344139fe0a30543e7fa3b",
            "0fbc52f0f6564296b7c9e93ff674e050",
            "9da0bf14ee294c5bab6f50a069b73727",
            "12b2040104964bd7a1ac2cb708460f4a",
            "7387c95f83dd44f9be6b0b76206b0c4f",
            "0b80d144f3214272b87caa588d3bbfb5",
            "292d0a01e99045fea7c67e903a3c9d34",
            "816b1e16749f4efd945911812e1c90de",
            "c8b7dffebec44b6fb18e1cc3d95bfa41",
            "531ef07fb4974fe790f86abf696112e3"
          ]
        },
        "id": "V4qmt9JtBgH_",
        "outputId": "e4aeb603-6e0e-43fe-90ba-97ee3dfcc407"
      },
      "source": [
        "model = torchvision.models.vgg16(pretrained=True)\n",
        "device = \"cuda:0\"     # or \"cpu\"\n",
        "model = model.to(device)    # move the model to GPU\n",
        "summary(model, input_size=(3, 224, 224))"
      ],
      "execution_count": 10,
      "outputs": [
        {
          "output_type": "stream",
          "name": "stderr",
          "text": [
            "Downloading: \"https://download.pytorch.org/models/vgg16-397923af.pth\" to /root/.cache/torch/hub/checkpoints/vgg16-397923af.pth\n"
          ]
        },
        {
          "output_type": "display_data",
          "data": {
            "application/vnd.jupyter.widget-view+json": {
              "model_id": "c1d197ecc7e7463ab4a0c062cbda0118",
              "version_minor": 0,
              "version_major": 2
            },
            "text/plain": [
              "  0%|          | 0.00/528M [00:00<?, ?B/s]"
            ]
          },
          "metadata": {}
        },
        {
          "output_type": "stream",
          "name": "stdout",
          "text": [
            "----------------------------------------------------------------\n",
            "        Layer (type)               Output Shape         Param #\n",
            "================================================================\n",
            "            Conv2d-1         [-1, 64, 224, 224]           1,792\n",
            "              ReLU-2         [-1, 64, 224, 224]               0\n",
            "            Conv2d-3         [-1, 64, 224, 224]          36,928\n",
            "              ReLU-4         [-1, 64, 224, 224]               0\n",
            "         MaxPool2d-5         [-1, 64, 112, 112]               0\n",
            "            Conv2d-6        [-1, 128, 112, 112]          73,856\n",
            "              ReLU-7        [-1, 128, 112, 112]               0\n",
            "            Conv2d-8        [-1, 128, 112, 112]         147,584\n",
            "              ReLU-9        [-1, 128, 112, 112]               0\n",
            "        MaxPool2d-10          [-1, 128, 56, 56]               0\n",
            "           Conv2d-11          [-1, 256, 56, 56]         295,168\n",
            "             ReLU-12          [-1, 256, 56, 56]               0\n",
            "           Conv2d-13          [-1, 256, 56, 56]         590,080\n",
            "             ReLU-14          [-1, 256, 56, 56]               0\n",
            "           Conv2d-15          [-1, 256, 56, 56]         590,080\n",
            "             ReLU-16          [-1, 256, 56, 56]               0\n",
            "        MaxPool2d-17          [-1, 256, 28, 28]               0\n",
            "           Conv2d-18          [-1, 512, 28, 28]       1,180,160\n",
            "             ReLU-19          [-1, 512, 28, 28]               0\n",
            "           Conv2d-20          [-1, 512, 28, 28]       2,359,808\n",
            "             ReLU-21          [-1, 512, 28, 28]               0\n",
            "           Conv2d-22          [-1, 512, 28, 28]       2,359,808\n",
            "             ReLU-23          [-1, 512, 28, 28]               0\n",
            "        MaxPool2d-24          [-1, 512, 14, 14]               0\n",
            "           Conv2d-25          [-1, 512, 14, 14]       2,359,808\n",
            "             ReLU-26          [-1, 512, 14, 14]               0\n",
            "           Conv2d-27          [-1, 512, 14, 14]       2,359,808\n",
            "             ReLU-28          [-1, 512, 14, 14]               0\n",
            "           Conv2d-29          [-1, 512, 14, 14]       2,359,808\n",
            "             ReLU-30          [-1, 512, 14, 14]               0\n",
            "        MaxPool2d-31            [-1, 512, 7, 7]               0\n",
            "AdaptiveAvgPool2d-32            [-1, 512, 7, 7]               0\n",
            "           Linear-33                 [-1, 4096]     102,764,544\n",
            "             ReLU-34                 [-1, 4096]               0\n",
            "          Dropout-35                 [-1, 4096]               0\n",
            "           Linear-36                 [-1, 4096]      16,781,312\n",
            "             ReLU-37                 [-1, 4096]               0\n",
            "          Dropout-38                 [-1, 4096]               0\n",
            "           Linear-39                 [-1, 1000]       4,097,000\n",
            "================================================================\n",
            "Total params: 138,357,544\n",
            "Trainable params: 138,357,544\n",
            "Non-trainable params: 0\n",
            "----------------------------------------------------------------\n",
            "Input size (MB): 0.57\n",
            "Forward/backward pass size (MB): 218.78\n",
            "Params size (MB): 527.79\n",
            "Estimated Total Size (MB): 747.15\n",
            "----------------------------------------------------------------\n"
          ]
        },
        {
          "output_type": "stream",
          "name": "stderr",
          "text": [
            "/usr/local/lib/python3.7/dist-packages/torch/nn/functional.py:718: UserWarning: Named tensors and all their associated APIs are an experimental feature and subject to change. Please do not use them for anything important until they are released as stable. (Triggered internally at  /pytorch/c10/core/TensorImpl.h:1156.)\n",
            "  return torch.max_pool2d(input, kernel_size, stride, padding, dilation, ceil_mode)\n"
          ]
        }
      ]
    },
    {
      "cell_type": "code",
      "metadata": {
        "id": "aJ-u1iiNkAzZ"
      },
      "source": [
        "class EarlyStopping():\n",
        "    \"\"\"\n",
        "    Early stopping to stop the training when the loss does not improve after\n",
        "    certain epochs.\n",
        "    \"\"\"\n",
        "    def __init__(self, patience=10, min_delta=0):\n",
        "        \"\"\"\n",
        "        :param patience: how many epochs to wait before stopping when loss is\n",
        "               not improving\n",
        "        :param min_delta: minimum difference between new loss and old loss for\n",
        "               new loss to be considered as an improvement\n",
        "        \"\"\"\n",
        "        self.patience = patience\n",
        "        self.min_delta = min_delta\n",
        "        self.counter = 0\n",
        "        self.best_loss = None\n",
        "        self.early_stop = False\n",
        "    def __call__(self, val_loss):\n",
        "        if self.best_loss == None:\n",
        "            self.best_loss = val_loss\n",
        "        elif self.best_loss - val_loss > self.min_delta:\n",
        "            self.best_loss = val_loss\n",
        "        elif self.best_loss - val_loss < self.min_delta:\n",
        "            self.counter += 1\n",
        "            print(f\"INFO: Early stopping counter {self.counter} of {self.patience}\")\n",
        "            if self.counter >= self.patience:\n",
        "                print('INFO: Early stopping')\n",
        "                self.early_stop = True"
      ],
      "execution_count": 11,
      "outputs": []
    },
    {
      "cell_type": "code",
      "metadata": {
        "colab": {
          "base_uri": "https://localhost:8080/"
        },
        "id": "hOI_sF2Abvdh",
        "outputId": "993558e6-0e0b-4c22-8202-0a3e22813691"
      },
      "source": [
        "optimizer = tc.optim.Adam(model.parameters(), lr=0.000001)\n",
        "cost_function = nn.CrossEntropyLoss()\n",
        "num_epochs = 100\n",
        "\n",
        "early_stopping = EarlyStopping()\n",
        "start = time.time()\n",
        "\n",
        "train_losses = []\n",
        "train_accuracy = []\n",
        "eval_losses = []\n",
        "eval_accuracy = []\n",
        "\n",
        "for epoch in range(num_epochs):\n",
        "  running_loss = 0.0\n",
        "  correct = 0\n",
        "  total = 0\n",
        "  running_val_loss = 0.0\n",
        "  correct_val = 0\n",
        "  total_val = 0 \n",
        "  print(f'Epoch: {epoch+1}')\n",
        "\n",
        "  model.train()\n",
        "  for image, label in tqdm.tqdm(train_dataloader, position=0, leave=True):  \n",
        "    image = image.to(device)\n",
        "    label = label.to(device)\n",
        "\n",
        "    optimizer.zero_grad()\n",
        "    results = model(image)\n",
        "    loss = cost_function(results, label)\n",
        "    loss.backward()\n",
        "    optimizer.step()\n",
        "\n",
        "    running_loss += loss.item()\n",
        "    _, predicted = results.max(1)\n",
        "    total += label.size(0)\n",
        "    correct += predicted.eq(label).sum().item()\n",
        "\n",
        "  train_loss = running_loss / len(train_dataloader)\n",
        "  accuracy = 100. * correct / total\n",
        "  \n",
        "  train_accuracy.append(accuracy)\n",
        "  train_losses.append(train_loss)\n",
        "  print('Train Loss: %.3f | Accuracy: %.3f'%(train_loss, accuracy))\n",
        "\n",
        "\n",
        "  model.eval()\n",
        "  with tc.no_grad():\n",
        "    for image, label in tqdm.tqdm(validation_dataloader, position=0, leave=True):\n",
        "      \n",
        "      image = image.to(device)\n",
        "      label = label.to(device)\n",
        "\n",
        "      results = model(image)\n",
        "      val_loss = cost_function(results, label)\n",
        "\n",
        "      running_val_loss += val_loss.item()\n",
        "      _, predicted_val = results.max(1)\n",
        "      total_val += labels.size(0)\n",
        "      correct_val += predicted_val.eq(label).sum().item()\n",
        "\n",
        "  val_loss = running_val_loss / len(validation_dataloader)\n",
        "  accuracy_val = 100. * correct_val / total_val\n",
        "\n",
        "  eval_losses.append(val_loss)\n",
        "  eval_accuracy.append(accuracy_val)\n",
        "\n",
        "  print('Validation Loss: %.3f | Accuracy: %.3f'%(val_loss, accuracy_val))\n",
        "\n",
        "  early_stopping(val_loss)\n",
        "  if early_stopping.early_stop:\n",
        "      break\n",
        "\n",
        "end = time.time()\n",
        "print(f\"Training time: {(end-start)/60:.3f} minutes\")"
      ],
      "execution_count": 12,
      "outputs": [
        {
          "output_type": "stream",
          "name": "stdout",
          "text": [
            "Epoch: 1\n"
          ]
        },
        {
          "output_type": "stream",
          "name": "stderr",
          "text": [
            "100%|██████████| 682/682 [17:45<00:00,  1.56s/it]\n"
          ]
        },
        {
          "output_type": "stream",
          "name": "stdout",
          "text": [
            "Train Loss: 3.048 | Accuracy: 36.500\n"
          ]
        },
        {
          "output_type": "stream",
          "name": "stderr",
          "text": [
            "100%|██████████| 36/36 [00:46<00:00,  1.31s/it]\n"
          ]
        },
        {
          "output_type": "stream",
          "name": "stdout",
          "text": [
            "Validation Loss: 1.021 | Accuracy: 65.278\n",
            "Epoch: 2\n"
          ]
        },
        {
          "output_type": "stream",
          "name": "stderr",
          "text": [
            "100%|██████████| 682/682 [04:34<00:00,  2.49it/s]\n"
          ]
        },
        {
          "output_type": "stream",
          "name": "stdout",
          "text": [
            "Train Loss: 0.947 | Accuracy: 66.728\n"
          ]
        },
        {
          "output_type": "stream",
          "name": "stderr",
          "text": [
            "100%|██████████| 36/36 [00:06<00:00,  5.57it/s]\n"
          ]
        },
        {
          "output_type": "stream",
          "name": "stdout",
          "text": [
            "Validation Loss: 0.718 | Accuracy: 77.083\n",
            "Epoch: 3\n"
          ]
        },
        {
          "output_type": "stream",
          "name": "stderr",
          "text": [
            "100%|██████████| 682/682 [04:34<00:00,  2.49it/s]\n"
          ]
        },
        {
          "output_type": "stream",
          "name": "stdout",
          "text": [
            "Train Loss: 0.672 | Accuracy: 77.550\n"
          ]
        },
        {
          "output_type": "stream",
          "name": "stderr",
          "text": [
            "100%|██████████| 36/36 [00:06<00:00,  5.55it/s]\n"
          ]
        },
        {
          "output_type": "stream",
          "name": "stdout",
          "text": [
            "Validation Loss: 0.569 | Accuracy: 78.472\n",
            "Epoch: 4\n"
          ]
        },
        {
          "output_type": "stream",
          "name": "stderr",
          "text": [
            "100%|██████████| 682/682 [04:36<00:00,  2.47it/s]\n"
          ]
        },
        {
          "output_type": "stream",
          "name": "stdout",
          "text": [
            "Train Loss: 0.485 | Accuracy: 83.749\n"
          ]
        },
        {
          "output_type": "stream",
          "name": "stderr",
          "text": [
            "100%|██████████| 36/36 [00:06<00:00,  5.50it/s]\n"
          ]
        },
        {
          "output_type": "stream",
          "name": "stdout",
          "text": [
            "Validation Loss: 0.482 | Accuracy: 79.167\n",
            "Epoch: 5\n"
          ]
        },
        {
          "output_type": "stream",
          "name": "stderr",
          "text": [
            "100%|██████████| 682/682 [04:34<00:00,  2.49it/s]\n"
          ]
        },
        {
          "output_type": "stream",
          "name": "stdout",
          "text": [
            "Train Loss: 0.391 | Accuracy: 86.610\n"
          ]
        },
        {
          "output_type": "stream",
          "name": "stderr",
          "text": [
            "100%|██████████| 36/36 [00:06<00:00,  5.57it/s]\n"
          ]
        },
        {
          "output_type": "stream",
          "name": "stdout",
          "text": [
            "Validation Loss: 0.449 | Accuracy: 83.333\n",
            "Epoch: 6\n"
          ]
        },
        {
          "output_type": "stream",
          "name": "stderr",
          "text": [
            "100%|██████████| 682/682 [04:34<00:00,  2.49it/s]\n"
          ]
        },
        {
          "output_type": "stream",
          "name": "stdout",
          "text": [
            "Train Loss: 0.299 | Accuracy: 89.692\n"
          ]
        },
        {
          "output_type": "stream",
          "name": "stderr",
          "text": [
            "100%|██████████| 36/36 [00:06<00:00,  5.67it/s]\n"
          ]
        },
        {
          "output_type": "stream",
          "name": "stdout",
          "text": [
            "Validation Loss: 0.412 | Accuracy: 85.417\n",
            "Epoch: 7\n"
          ]
        },
        {
          "output_type": "stream",
          "name": "stderr",
          "text": [
            "100%|██████████| 682/682 [04:33<00:00,  2.50it/s]\n"
          ]
        },
        {
          "output_type": "stream",
          "name": "stdout",
          "text": [
            "Train Loss: 0.242 | Accuracy: 91.123\n"
          ]
        },
        {
          "output_type": "stream",
          "name": "stderr",
          "text": [
            "100%|██████████| 36/36 [00:06<00:00,  5.62it/s]\n"
          ]
        },
        {
          "output_type": "stream",
          "name": "stdout",
          "text": [
            "Validation Loss: 0.403 | Accuracy: 88.194\n",
            "Epoch: 8\n"
          ]
        },
        {
          "output_type": "stream",
          "name": "stderr",
          "text": [
            "100%|██████████| 682/682 [04:32<00:00,  2.50it/s]\n"
          ]
        },
        {
          "output_type": "stream",
          "name": "stdout",
          "text": [
            "Train Loss: 0.193 | Accuracy: 92.847\n"
          ]
        },
        {
          "output_type": "stream",
          "name": "stderr",
          "text": [
            "100%|██████████| 36/36 [00:06<00:00,  5.64it/s]\n"
          ]
        },
        {
          "output_type": "stream",
          "name": "stdout",
          "text": [
            "Validation Loss: 0.353 | Accuracy: 88.889\n",
            "Epoch: 9\n"
          ]
        },
        {
          "output_type": "stream",
          "name": "stderr",
          "text": [
            "100%|██████████| 682/682 [04:33<00:00,  2.49it/s]\n"
          ]
        },
        {
          "output_type": "stream",
          "name": "stdout",
          "text": [
            "Train Loss: 0.165 | Accuracy: 93.910\n"
          ]
        },
        {
          "output_type": "stream",
          "name": "stderr",
          "text": [
            "100%|██████████| 36/36 [00:06<00:00,  5.65it/s]\n"
          ]
        },
        {
          "output_type": "stream",
          "name": "stdout",
          "text": [
            "Validation Loss: 0.359 | Accuracy: 87.500\n",
            "INFO: Early stopping counter 1 of 10\n",
            "Epoch: 10\n"
          ]
        },
        {
          "output_type": "stream",
          "name": "stderr",
          "text": [
            "100%|██████████| 682/682 [04:33<00:00,  2.49it/s]\n"
          ]
        },
        {
          "output_type": "stream",
          "name": "stdout",
          "text": [
            "Train Loss: 0.120 | Accuracy: 96.038\n"
          ]
        },
        {
          "output_type": "stream",
          "name": "stderr",
          "text": [
            "100%|██████████| 36/36 [00:06<00:00,  5.62it/s]\n"
          ]
        },
        {
          "output_type": "stream",
          "name": "stdout",
          "text": [
            "Validation Loss: 0.319 | Accuracy: 90.972\n",
            "Epoch: 11\n"
          ]
        },
        {
          "output_type": "stream",
          "name": "stderr",
          "text": [
            "100%|██████████| 682/682 [04:33<00:00,  2.49it/s]\n"
          ]
        },
        {
          "output_type": "stream",
          "name": "stdout",
          "text": [
            "Train Loss: 0.096 | Accuracy: 96.845\n"
          ]
        },
        {
          "output_type": "stream",
          "name": "stderr",
          "text": [
            "100%|██████████| 36/36 [00:06<00:00,  5.56it/s]\n"
          ]
        },
        {
          "output_type": "stream",
          "name": "stdout",
          "text": [
            "Validation Loss: 0.291 | Accuracy: 91.667\n",
            "Epoch: 12\n"
          ]
        },
        {
          "output_type": "stream",
          "name": "stderr",
          "text": [
            "100%|██████████| 682/682 [04:35<00:00,  2.48it/s]\n"
          ]
        },
        {
          "output_type": "stream",
          "name": "stdout",
          "text": [
            "Train Loss: 0.076 | Accuracy: 97.469\n"
          ]
        },
        {
          "output_type": "stream",
          "name": "stderr",
          "text": [
            "100%|██████████| 36/36 [00:06<00:00,  5.58it/s]\n"
          ]
        },
        {
          "output_type": "stream",
          "name": "stdout",
          "text": [
            "Validation Loss: 0.287 | Accuracy: 91.667\n",
            "Epoch: 13\n"
          ]
        },
        {
          "output_type": "stream",
          "name": "stderr",
          "text": [
            "100%|██████████| 682/682 [04:32<00:00,  2.50it/s]\n"
          ]
        },
        {
          "output_type": "stream",
          "name": "stdout",
          "text": [
            "Train Loss: 0.073 | Accuracy: 97.909\n"
          ]
        },
        {
          "output_type": "stream",
          "name": "stderr",
          "text": [
            "100%|██████████| 36/36 [00:06<00:00,  5.81it/s]\n"
          ]
        },
        {
          "output_type": "stream",
          "name": "stdout",
          "text": [
            "Validation Loss: 0.273 | Accuracy: 91.667\n",
            "Epoch: 14\n"
          ]
        },
        {
          "output_type": "stream",
          "name": "stderr",
          "text": [
            "100%|██████████| 682/682 [04:30<00:00,  2.52it/s]\n"
          ]
        },
        {
          "output_type": "stream",
          "name": "stdout",
          "text": [
            "Train Loss: 0.050 | Accuracy: 98.386\n"
          ]
        },
        {
          "output_type": "stream",
          "name": "stderr",
          "text": [
            "100%|██████████| 36/36 [00:06<00:00,  5.71it/s]\n"
          ]
        },
        {
          "output_type": "stream",
          "name": "stdout",
          "text": [
            "Validation Loss: 0.243 | Accuracy: 93.056\n",
            "Epoch: 15\n"
          ]
        },
        {
          "output_type": "stream",
          "name": "stderr",
          "text": [
            "100%|██████████| 682/682 [04:29<00:00,  2.53it/s]\n"
          ]
        },
        {
          "output_type": "stream",
          "name": "stdout",
          "text": [
            "Train Loss: 0.039 | Accuracy: 99.083\n"
          ]
        },
        {
          "output_type": "stream",
          "name": "stderr",
          "text": [
            "100%|██████████| 36/36 [00:06<00:00,  5.83it/s]\n"
          ]
        },
        {
          "output_type": "stream",
          "name": "stdout",
          "text": [
            "Validation Loss: 0.229 | Accuracy: 94.444\n",
            "Epoch: 16\n"
          ]
        },
        {
          "output_type": "stream",
          "name": "stderr",
          "text": [
            "100%|██████████| 682/682 [04:29<00:00,  2.53it/s]\n"
          ]
        },
        {
          "output_type": "stream",
          "name": "stdout",
          "text": [
            "Train Loss: 0.033 | Accuracy: 99.083\n"
          ]
        },
        {
          "output_type": "stream",
          "name": "stderr",
          "text": [
            "100%|██████████| 36/36 [00:06<00:00,  5.82it/s]\n"
          ]
        },
        {
          "output_type": "stream",
          "name": "stdout",
          "text": [
            "Validation Loss: 0.214 | Accuracy: 93.750\n",
            "Epoch: 17\n"
          ]
        },
        {
          "output_type": "stream",
          "name": "stderr",
          "text": [
            "100%|██████████| 682/682 [04:29<00:00,  2.53it/s]\n"
          ]
        },
        {
          "output_type": "stream",
          "name": "stdout",
          "text": [
            "Train Loss: 0.019 | Accuracy: 99.633\n"
          ]
        },
        {
          "output_type": "stream",
          "name": "stderr",
          "text": [
            "100%|██████████| 36/36 [00:06<00:00,  5.73it/s]\n"
          ]
        },
        {
          "output_type": "stream",
          "name": "stdout",
          "text": [
            "Validation Loss: 0.238 | Accuracy: 94.444\n",
            "INFO: Early stopping counter 2 of 10\n",
            "Epoch: 18\n"
          ]
        },
        {
          "output_type": "stream",
          "name": "stderr",
          "text": [
            "100%|██████████| 682/682 [04:28<00:00,  2.54it/s]\n"
          ]
        },
        {
          "output_type": "stream",
          "name": "stdout",
          "text": [
            "Train Loss: 0.017 | Accuracy: 99.560\n"
          ]
        },
        {
          "output_type": "stream",
          "name": "stderr",
          "text": [
            "100%|██████████| 36/36 [00:06<00:00,  5.89it/s]\n"
          ]
        },
        {
          "output_type": "stream",
          "name": "stdout",
          "text": [
            "Validation Loss: 0.225 | Accuracy: 93.750\n",
            "INFO: Early stopping counter 3 of 10\n",
            "Epoch: 19\n"
          ]
        },
        {
          "output_type": "stream",
          "name": "stderr",
          "text": [
            "100%|██████████| 682/682 [04:28<00:00,  2.54it/s]\n"
          ]
        },
        {
          "output_type": "stream",
          "name": "stdout",
          "text": [
            "Train Loss: 0.016 | Accuracy: 99.633\n"
          ]
        },
        {
          "output_type": "stream",
          "name": "stderr",
          "text": [
            "100%|██████████| 36/36 [00:06<00:00,  5.85it/s]\n"
          ]
        },
        {
          "output_type": "stream",
          "name": "stdout",
          "text": [
            "Validation Loss: 0.230 | Accuracy: 93.750\n",
            "INFO: Early stopping counter 4 of 10\n",
            "Epoch: 20\n"
          ]
        },
        {
          "output_type": "stream",
          "name": "stderr",
          "text": [
            "100%|██████████| 682/682 [04:28<00:00,  2.54it/s]\n"
          ]
        },
        {
          "output_type": "stream",
          "name": "stdout",
          "text": [
            "Train Loss: 0.014 | Accuracy: 99.780\n"
          ]
        },
        {
          "output_type": "stream",
          "name": "stderr",
          "text": [
            "100%|██████████| 36/36 [00:06<00:00,  5.97it/s]\n"
          ]
        },
        {
          "output_type": "stream",
          "name": "stdout",
          "text": [
            "Validation Loss: 0.222 | Accuracy: 93.056\n",
            "INFO: Early stopping counter 5 of 10\n",
            "Epoch: 21\n"
          ]
        },
        {
          "output_type": "stream",
          "name": "stderr",
          "text": [
            "100%|██████████| 682/682 [04:26<00:00,  2.56it/s]\n"
          ]
        },
        {
          "output_type": "stream",
          "name": "stdout",
          "text": [
            "Train Loss: 0.012 | Accuracy: 99.743\n"
          ]
        },
        {
          "output_type": "stream",
          "name": "stderr",
          "text": [
            "100%|██████████| 36/36 [00:06<00:00,  5.96it/s]\n"
          ]
        },
        {
          "output_type": "stream",
          "name": "stdout",
          "text": [
            "Validation Loss: 0.216 | Accuracy: 94.444\n",
            "INFO: Early stopping counter 6 of 10\n",
            "Epoch: 22\n"
          ]
        },
        {
          "output_type": "stream",
          "name": "stderr",
          "text": [
            "100%|██████████| 682/682 [04:26<00:00,  2.56it/s]\n"
          ]
        },
        {
          "output_type": "stream",
          "name": "stdout",
          "text": [
            "Train Loss: 0.008 | Accuracy: 99.853\n"
          ]
        },
        {
          "output_type": "stream",
          "name": "stderr",
          "text": [
            "100%|██████████| 36/36 [00:06<00:00,  5.99it/s]\n"
          ]
        },
        {
          "output_type": "stream",
          "name": "stdout",
          "text": [
            "Validation Loss: 0.279 | Accuracy: 93.750\n",
            "INFO: Early stopping counter 7 of 10\n",
            "Epoch: 23\n"
          ]
        },
        {
          "output_type": "stream",
          "name": "stderr",
          "text": [
            "100%|██████████| 682/682 [04:28<00:00,  2.54it/s]\n"
          ]
        },
        {
          "output_type": "stream",
          "name": "stdout",
          "text": [
            "Train Loss: 0.005 | Accuracy: 99.890\n"
          ]
        },
        {
          "output_type": "stream",
          "name": "stderr",
          "text": [
            "100%|██████████| 36/36 [00:06<00:00,  5.95it/s]\n"
          ]
        },
        {
          "output_type": "stream",
          "name": "stdout",
          "text": [
            "Validation Loss: 0.222 | Accuracy: 94.444\n",
            "INFO: Early stopping counter 8 of 10\n",
            "Epoch: 24\n"
          ]
        },
        {
          "output_type": "stream",
          "name": "stderr",
          "text": [
            "100%|██████████| 682/682 [04:29<00:00,  2.53it/s]\n"
          ]
        },
        {
          "output_type": "stream",
          "name": "stdout",
          "text": [
            "Train Loss: 0.004 | Accuracy: 99.963\n"
          ]
        },
        {
          "output_type": "stream",
          "name": "stderr",
          "text": [
            "100%|██████████| 36/36 [00:06<00:00,  5.70it/s]\n"
          ]
        },
        {
          "output_type": "stream",
          "name": "stdout",
          "text": [
            "Validation Loss: 0.231 | Accuracy: 93.750\n",
            "INFO: Early stopping counter 9 of 10\n",
            "Epoch: 25\n"
          ]
        },
        {
          "output_type": "stream",
          "name": "stderr",
          "text": [
            "100%|██████████| 682/682 [04:30<00:00,  2.52it/s]\n"
          ]
        },
        {
          "output_type": "stream",
          "name": "stdout",
          "text": [
            "Train Loss: 0.005 | Accuracy: 99.963\n"
          ]
        },
        {
          "output_type": "stream",
          "name": "stderr",
          "text": [
            "100%|██████████| 36/36 [00:06<00:00,  5.81it/s]"
          ]
        },
        {
          "output_type": "stream",
          "name": "stdout",
          "text": [
            "Validation Loss: 0.248 | Accuracy: 93.056\n",
            "INFO: Early stopping counter 10 of 10\n",
            "INFO: Early stopping\n",
            "Training time: 129.631 minutes\n"
          ]
        },
        {
          "output_type": "stream",
          "name": "stderr",
          "text": [
            "\n"
          ]
        }
      ]
    },
    {
      "cell_type": "code",
      "metadata": {
        "colab": {
          "base_uri": "https://localhost:8080/",
          "height": 573
        },
        "id": "8YOzSOAL9n6M",
        "outputId": "e3d399cc-0f55-47c1-fa06-8fe75f8e233a"
      },
      "source": [
        "#plot accuracy\n",
        "plt.plot(train_accuracy,'.-')\n",
        "plt.plot(eval_accuracy,'.-')\n",
        "plt.xlabel('epoch')\n",
        "plt.ylabel('accuracy [%]')\n",
        "plt.legend(['Train','Valid'], loc=\"lower right\")\n",
        "plt.title(\"Model accuracy\")\n",
        "plt.show()\n",
        "\n",
        "#plot losses\n",
        "plt.plot(train_losses,'.-')\n",
        "plt.plot(eval_losses,'.-')\n",
        "plt.xlabel('epoch')\n",
        "plt.ylabel('loss')\n",
        "plt.legend(['Train','Valid'])\n",
        "plt.title(\"Model loss\")\n",
        "plt.show()"
      ],
      "execution_count": 13,
      "outputs": [
        {
          "output_type": "display_data",
          "data": {
            "image/png": "[encoded data removed]",
            "text/plain": [
              "<Figure size 432x288 with 1 Axes>"
            ]
          },
          "metadata": {
            "needs_background": "light"
          }
        },
        {
          "output_type": "display_data",
          "data": {
            "image/png": "[encoded data removed]",
            "text/plain": [
              "<Figure size 432x288 with 1 Axes>"
            ]
          },
          "metadata": {
            "needs_background": "light"
          }
        }
      ]
    },
    {
      "cell_type": "code",
      "metadata": {
        "colab": {
          "base_uri": "https://localhost:8080/"
        },
        "id": "Aq8TLWp14AsY",
        "outputId": "e1a6c661-5d8d-4912-e116-7b45213e9b7f"
      },
      "source": [
        "model.eval()\n",
        "actuals = []\n",
        "predictions = []\n",
        "\n",
        "with tc.no_grad():\n",
        "  for image, label in test_dataloader:    \n",
        "    image = image.to(device)                     # GPU\n",
        "    label = label.to(device)\n",
        "    results = model(image)             \n",
        "    prediction = results.argmax(dim=1, keepdim=True)     \n",
        "    actuals.extend(label.view_as(prediction))        #[]\n",
        "    predictions.extend(prediction)\n",
        "\n",
        "actuals = [i.item() for i in actuals]\n",
        "predictions = [i.item() for i in predictions]\n",
        "\n",
        "cm = confusion_matrix(actuals, predictions)\n",
        "print(\"Confusion Matrix : \")\n",
        "print(cm)\n",
        "print('Precision score: %f' % precision_score(actuals, predictions, average='macro'))\n",
        "print('Accuracy score: %f' % accuracy_score(actuals, predictions))\n",
        "print('F1 score: %f' % f1_score(actuals, predictions, average='macro'))\n",
        "print(classification_report(actuals, predictions)) "
      ],
      "execution_count": 14,
      "outputs": [
        {
          "output_type": "stream",
          "name": "stdout",
          "text": [
            "Confusion Matrix : \n",
            "[[ 40  33   2  25]\n",
            " [  1 111   1   2]\n",
            " [  0   3  65   6]\n",
            " [  0   0   0 105]]\n",
            "Precision score: 0.861866\n",
            "Accuracy score: 0.814721\n",
            "F1 score: 0.798599\n",
            "              precision    recall  f1-score   support\n",
            "\n",
            "           0       0.98      0.40      0.57       100\n",
            "           1       0.76      0.97      0.85       115\n",
            "           2       0.96      0.88      0.92        74\n",
            "           3       0.76      1.00      0.86       105\n",
            "\n",
            "    accuracy                           0.81       394\n",
            "   macro avg       0.86      0.81      0.80       394\n",
            "weighted avg       0.85      0.81      0.79       394\n",
            "\n"
          ]
        }
      ]
    },
    {
      "cell_type": "code",
      "metadata": {
        "colab": {
          "base_uri": "https://localhost:8080/",
          "height": 427
        },
        "id": "oarpChT92C0e",
        "outputId": "bc7f1ec0-8620-489b-8c78-3741fac38140"
      },
      "source": [
        "#classes = ['Glioma', 'Meningioma', 'Pituitary', 'No Tumor']\n",
        "plt.figure(figsize=(7,6))\n",
        "sns.heatmap(cm, xticklabels=classes, yticklabels=['','','',''], annot=True, fmt='.3g',  cmap='YlGnBu')   #Reds\n",
        "plt.ylabel('True label \\n \\n \\n   No Tumor           Pituitary          Meningioma          Glioma    ')\n",
        "plt.xlabel('\\n \\n  Predicted label')\n",
        "plt.title('Confusion matrix')\n",
        "plt.show()"
      ],
      "execution_count": 15,
      "outputs": [
        {
          "output_type": "display_data",
          "data": {
            "image/png": "[encoded data removed]",
            "text/plain": [
              "<Figure size 504x432 with 2 Axes>"
            ]
          },
          "metadata": {
            "needs_background": "light"
          }
        }
      ]
    },
    {
      "cell_type": "code",
      "metadata": {
        "colab": {
          "base_uri": "https://localhost:8080/",
          "height": 404
        },
        "id": "iPBlBler0iiv",
        "outputId": "c70e9b80-f032-4968-de27-6df0c7d05b91"
      },
      "source": [
        "def class_probabilities(number_of_class):\n",
        "  model.eval()\n",
        "  actuals = []\n",
        "  probabilities = []\n",
        "  with tc.no_grad():\n",
        "    for image, label in test_dataloader:\n",
        "      image = image.to(device)\n",
        "      label = label.to(device)\n",
        "      results = model(image)\n",
        "      prediction = results.argmax(dim=1, keepdim=True)\n",
        "      actuals.extend(label.view_as(prediction) == number_of_class)\n",
        "      probabilities.extend(np.exp(results.cpu()[:, number_of_class]))\n",
        "\n",
        "  actuals = [i.item() for i in actuals]\n",
        "  probabilities = [i.item() for i in probabilities]\n",
        "  \n",
        "  fpr, tpr, _ = roc_curve(actuals, probabilities)\n",
        "  roc_auc = auc(fpr, tpr)\n",
        "\n",
        "  return fpr, tpr, roc_auc\n",
        "\n",
        "fpr_dict ={}\n",
        "tpr_dict = {}\n",
        "roc_auc_dict = {}\n",
        "for i in range(4):\n",
        "  fpr, tpr, roc_auc = class_probabilities(i)\n",
        "  fpr_dict[i] = fpr\n",
        "  tpr_dict[i] = tpr\n",
        "  roc_auc_dict[i] = roc_auc\n",
        "\n",
        "colors = ['r', 'g', 'b', 'orange']\n",
        "\n",
        "plt.figure(figsize=[11,6])\n",
        "for i in range(4):\n",
        "  plt.plot(fpr_dict[i], tpr_dict[i], color = colors[i], label='ROC curve class: ' + classes[i] + ' (AUC = %0.2f)' % roc_auc_dict[i])\n",
        "plt.xlabel('False Positive Rate')\n",
        "plt.ylabel('True Positive Rate')\n",
        "plt.legend(loc=\"lower right\")\n",
        "plt.title(\"ROC curve\")\n",
        "\n",
        "plt.show()"
      ],
      "execution_count": 16,
      "outputs": [
        {
          "output_type": "display_data",
          "data": {
            "image/png": "[encoded data removed]",
            "text/plain": [
              "<Figure size 792x432 with 1 Axes>"
            ]
          },
          "metadata": {
            "needs_background": "light"
          }
        }
      ]
    },
    {
      "cell_type": "code",
      "metadata": {
        "id": "zIzd55l-ufFa"
      },
      "source": [
        ""
      ],
      "execution_count": 16,
      "outputs": []
    }
  ]
}